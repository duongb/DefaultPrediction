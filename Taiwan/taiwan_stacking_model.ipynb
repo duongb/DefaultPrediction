{
  "nbformat": 4,
  "nbformat_minor": 0,
  "metadata": {
    "colab": {
      "provenance": []
    },
    "kernelspec": {
      "name": "python3",
      "display_name": "Python 3"
    },
    "language_info": {
      "name": "python"
    },
    "accelerator": "GPU",
    "gpuClass": "standard"
  },
  "cells": [
    {
      "cell_type": "code",
      "source": [
        "!pip install catboost -q"
      ],
      "metadata": {
        "colab": {
          "base_uri": "https://localhost:8080/"
        },
        "id": "O3Xdcdrl-Dbd",
        "outputId": "37c9f415-f904-411f-8647-33cec46744be"
      },
      "execution_count": 1,
      "outputs": [
        {
          "output_type": "stream",
          "name": "stdout",
          "text": [
            "\u001b[K     |████████████████████████████████| 76.6 MB 108 kB/s \n",
            "\u001b[?25h"
          ]
        }
      ]
    },
    {
      "cell_type": "code",
      "source": [
        "from google.colab import drive\n",
        "drive.mount('/content/drive')"
      ],
      "metadata": {
        "colab": {
          "base_uri": "https://localhost:8080/"
        },
        "id": "uMIaiz5Np5O6",
        "outputId": "441d25d2-16c6-46dc-d476-df674e3e2fec"
      },
      "execution_count": 2,
      "outputs": [
        {
          "output_type": "stream",
          "name": "stdout",
          "text": [
            "Drive already mounted at /content/drive; to attempt to forcibly remount, call drive.mount(\"/content/drive\", force_remount=True).\n"
          ]
        }
      ]
    },
    {
      "cell_type": "code",
      "execution_count": 3,
      "metadata": {
        "id": "IG3rUccNcWRV"
      },
      "outputs": [],
      "source": [
        "import pandas as pd\n",
        "import numpy as np\n",
        "import matplotlib.pyplot as plt\n",
        "\n",
        "from catboost import CatBoostClassifier\n",
        "from xgboost import XGBClassifier\n",
        "from sklearn.ensemble import GradientBoostingClassifier\n",
        "from sklearn.ensemble import RandomForestClassifier\n",
        "from sklearn.linear_model import LogisticRegression\n",
        "\n",
        "from keras.models import Sequential, load_model\n",
        "from keras.layers import Dense, Activation, Conv1D, MaxPooling1D, Flatten, Dropout, Embedding, LSTM\n",
        "from keras.callbacks import ModelCheckpoint, EarlyStopping\n",
        "\n",
        "from sklearn.metrics import accuracy_score\n",
        "from sklearn.metrics import roc_auc_score\n",
        "from sklearn.model_selection import train_test_split\n",
        "from sklearn.metrics import f1_score\n",
        "from sklearn.metrics import classification_report\n",
        "from sklearn.metrics import RocCurveDisplay\n",
        "from sklearn.metrics import confusion_matrix, ConfusionMatrixDisplay\n",
        "from sklearn.model_selection import KFold\n",
        "\n",
        "import gc\n",
        "import os\n",
        "from numpy import mean\n",
        "from numpy import std\n"
      ]
    },
    {
      "cell_type": "code",
      "source": [
        "meta_tree_train = pd.read_pickle('./drive/MyDrive/save/taiwan/meta_tree_train.pkl')\n",
        "meta_tree_test = pd.read_pickle('./drive/MyDrive/save/taiwan/meta_tree_test.pkl')\n",
        "meta_dnn_train = pd.read_pickle('./drive/MyDrive/save/taiwan/meta_dnn_train.pkl')\n",
        "meta_dnn_test = pd.read_pickle('./drive/MyDrive/save/taiwan/meta_dnn_test.pkl')\n",
        "meta_lstm_train = pd.read_pickle('./drive/MyDrive/save/taiwan/meta_lstm_train.pkl')\n",
        "meta_lstm_test = pd.read_pickle('./drive/MyDrive/save/taiwan/meta_lstm_test.pkl')"
      ],
      "metadata": {
        "id": "OyKX0DbJe__W"
      },
      "execution_count": 4,
      "outputs": []
    },
    {
      "cell_type": "code",
      "source": [
        "X_train = pd.read_pickle('./drive/MyDrive/save/taiwan/X_train.pkl')\n",
        "X_test = pd.read_pickle('./drive/MyDrive/save/taiwan/X_test.pkl')\n",
        "y_train  = pd.read_pickle('./drive/MyDrive/save/taiwan/y_train.pkl')\n",
        "y_test  = pd.read_pickle('./drive/MyDrive/save/taiwan/y_test.pkl')"
      ],
      "metadata": {
        "id": "2sngnFS2hENz"
      },
      "execution_count": 5,
      "outputs": []
    },
    {
      "cell_type": "code",
      "source": [
        "#meta classifier 8 models\n",
        "meta_train = pd.concat([meta_tree_train,  meta_dnn_train, meta_lstm_train], axis = 1)\n",
        "meta_test = pd.concat([meta_tree_test,  meta_dnn_test, meta_lstm_test], axis = 1)"
      ],
      "metadata": {
        "id": "iYT0JbqngBy7"
      },
      "execution_count": 6,
      "outputs": []
    },
    {
      "cell_type": "code",
      "source": [
        "n_fold = 5"
      ],
      "metadata": {
        "id": "iVAY5WrIg0hE"
      },
      "execution_count": 7,
      "outputs": []
    },
    {
      "cell_type": "code",
      "source": [
        "########## Stacking only meta classifier #################"
      ],
      "metadata": {
        "id": "xi7yjffDe24i"
      },
      "execution_count": 8,
      "outputs": []
    },
    {
      "cell_type": "code",
      "source": [
        "## LogisticRegression ##"
      ],
      "metadata": {
        "id": "JoyxYHi6e_Ql"
      },
      "execution_count": 9,
      "outputs": []
    },
    {
      "cell_type": "code",
      "source": [
        "stacking_only_meta = LogisticRegression(random_state=0)"
      ],
      "metadata": {
        "id": "AiLwgZJngsI9"
      },
      "execution_count": 10,
      "outputs": []
    },
    {
      "cell_type": "code",
      "source": [
        "kf = KFold(n_splits=n_fold, shuffle = False)\n",
        "acc_score_stacking_only_meta = []\n",
        "auc_score_stacking_only_meta = []\n",
        "f1_stacking_only_meta = []\n",
        "meta_train_stacking_only_meta = []\n",
        "meta_test_stacking_only_meta = []\n",
        "i = 1\n",
        "for train_index, valid_index in kf.split(meta_train, y_train):\n",
        "    print('KFold {} of {}'.format(i,kf.n_splits))\n",
        "    train_X, val_X = meta_train.iloc[train_index], meta_train.iloc[valid_index]\n",
        "    train_y, val_y = y_train.iloc[train_index], y_train.iloc[valid_index]\n",
        "    stacking_only_meta.fit(train_X, train_y)\n",
        "    ####meta\n",
        "    meta_train_stacking_only_meta = np.append(meta_train_stacking_only_meta, stacking_only_meta.predict_proba(val_X)[:,1]).reshape(-1,1)\n",
        "    \n",
        "    if len(meta_test_stacking_only_meta) == 0:\n",
        "        meta_test_stacking_only_meta = stacking_only_meta.predict_proba(meta_test)[:,1].reshape(-1,1)\n",
        "    else:\n",
        "        meta_test_stacking_only_meta = np.add(meta_test_stacking_only_meta, stacking_only_meta.predict_proba(meta_test)[:,1].reshape(-1,1))\n",
        "    #####\n",
        "    yhat = stacking_only_meta.predict(meta_test)\n",
        "    acc_score_stacking_only_meta.append(accuracy_score(yhat,y_test))\n",
        "    auc_score_stacking_only_meta.append(roc_auc_score(yhat,y_test))\n",
        "    f1_stacking_only_meta.append(f1_score(yhat,y_test))\n",
        "    i += 1\n",
        "meta_test_stacking_only_meta = np.divide(meta_test_stacking_only_meta, n_fold)"
      ],
      "metadata": {
        "colab": {
          "base_uri": "https://localhost:8080/"
        },
        "id": "uKYftH9-gxwj",
        "outputId": "546c41f9-9c23-4a48-97e0-93146d8129b9"
      },
      "execution_count": 11,
      "outputs": [
        {
          "output_type": "stream",
          "name": "stdout",
          "text": [
            "KFold 1 of 5\n",
            "KFold 2 of 5\n"
          ]
        },
        {
          "output_type": "stream",
          "name": "stderr",
          "text": [
            "/usr/local/lib/python3.7/dist-packages/sklearn/utils/validation.py:993: DataConversionWarning: A column-vector y was passed when a 1d array was expected. Please change the shape of y to (n_samples, ), for example using ravel().\n",
            "  y = column_or_1d(y, warn=True)\n",
            "/usr/local/lib/python3.7/dist-packages/sklearn/utils/validation.py:993: DataConversionWarning: A column-vector y was passed when a 1d array was expected. Please change the shape of y to (n_samples, ), for example using ravel().\n",
            "  y = column_or_1d(y, warn=True)\n"
          ]
        },
        {
          "output_type": "stream",
          "name": "stdout",
          "text": [
            "KFold 3 of 5\n",
            "KFold 4 of 5\n",
            "KFold 5 of 5\n"
          ]
        },
        {
          "output_type": "stream",
          "name": "stderr",
          "text": [
            "/usr/local/lib/python3.7/dist-packages/sklearn/utils/validation.py:993: DataConversionWarning: A column-vector y was passed when a 1d array was expected. Please change the shape of y to (n_samples, ), for example using ravel().\n",
            "  y = column_or_1d(y, warn=True)\n",
            "/usr/local/lib/python3.7/dist-packages/sklearn/utils/validation.py:993: DataConversionWarning: A column-vector y was passed when a 1d array was expected. Please change the shape of y to (n_samples, ), for example using ravel().\n",
            "  y = column_or_1d(y, warn=True)\n",
            "/usr/local/lib/python3.7/dist-packages/sklearn/utils/validation.py:993: DataConversionWarning: A column-vector y was passed when a 1d array was expected. Please change the shape of y to (n_samples, ), for example using ravel().\n",
            "  y = column_or_1d(y, warn=True)\n"
          ]
        }
      ]
    },
    {
      "cell_type": "code",
      "source": [
        "yhat = stacking_only_meta.predict(meta_test)\n",
        "print(\"Accuracy: \" + str(round(mean(acc_score_stacking_only_meta),4)) + \" +- \"+ str(round(std(acc_score_stacking_only_meta),4)))\n",
        "print(\"ROC-AUC: \" + str(round(mean(auc_score_stacking_only_meta),4)) + \" +- \" + str(round(std(auc_score_stacking_only_meta),4)))\n",
        "print(\"F1-Score: \" + str(round(mean(f1_stacking_only_meta),4)) +\" +- \"+ str(round(std(f1_stacking_only_meta),4)))\n",
        "print(classification_report(y_test, yhat))\n",
        "cm = confusion_matrix(yhat, y_test,labels=[0,1])\n",
        "disp = ConfusionMatrixDisplay(confusion_matrix=cm, display_labels=[0,1])\n",
        "disp.plot()\n",
        "RocCurveDisplay.from_predictions(y_test, yhat)\n",
        "plt.show()"
      ],
      "metadata": {
        "colab": {
          "base_uri": "https://localhost:8080/",
          "height": 749
        },
        "id": "wpSEbwRdg8Kb",
        "outputId": "c274a769-655b-4a2c-c71a-31b2f2c11f78"
      },
      "execution_count": 12,
      "outputs": [
        {
          "output_type": "stream",
          "name": "stdout",
          "text": [
            "Accuracy: 0.9681 +- 0.001\n",
            "ROC-AUC: 0.9667 +- 0.0009\n",
            "F1-Score: 0.9734 +- 0.0008\n",
            "              precision    recall  f1-score   support\n",
            "\n",
            "           0       0.96      0.96      0.96      2024\n",
            "           1       0.97      0.97      0.97      3041\n",
            "\n",
            "    accuracy                           0.97      5065\n",
            "   macro avg       0.97      0.97      0.97      5065\n",
            "weighted avg       0.97      0.97      0.97      5065\n",
            "\n"
          ]
        },
        {
          "output_type": "display_data",
          "data": {
            "text/plain": [
              "<Figure size 432x288 with 2 Axes>"
            ],
            "image/png": "[encoded data removed]"
          },
          "metadata": {
            "needs_background": "light"
          }
        },
        {
          "output_type": "display_data",
          "data": {
            "text/plain": [
              "<Figure size 432x288 with 1 Axes>"
            ],
            "image/png": "[encoded data removed]"
          },
          "metadata": {
            "needs_background": "light"
          }
        }
      ]
    },
    {
      "cell_type": "code",
      "source": [
        "############# Stacking combine meta and raw features ##################"
      ],
      "metadata": {
        "id": "p38FSnqVirNy"
      },
      "execution_count": 13,
      "outputs": []
    },
    {
      "cell_type": "code",
      "source": [
        "meta_train_lv0 = pd.concat([ pd.DataFrame(X_train, columns=X_train.columns).reset_index(drop=True),\n",
        "                          meta_train\n",
        "                       ], axis = 1)"
      ],
      "metadata": {
        "id": "sSm-qRwUi6zP"
      },
      "execution_count": 14,
      "outputs": []
    },
    {
      "cell_type": "code",
      "source": [
        "meta_test_lv0 = pd.concat([ pd.DataFrame(X_test, columns=X_train.columns).reset_index(drop=True),\n",
        "                          meta_test\n",
        "                       ], axis = 1)"
      ],
      "metadata": {
        "id": "8lS8kI4TjdMV"
      },
      "execution_count": 15,
      "outputs": []
    },
    {
      "cell_type": "code",
      "source": [
        "###### GBDT ########"
      ],
      "metadata": {
        "id": "BndwoS2knaBu"
      },
      "execution_count": 16,
      "outputs": []
    },
    {
      "cell_type": "code",
      "source": [
        "gbdt_lv1  = GradientBoostingClassifier(n_estimators=438,\n",
        "                                  learning_rate=0.06,\n",
        "                                  max_depth=10,\n",
        "                                  subsample = 0.55,\n",
        "                                  verbose = 1,\n",
        "                                  random_state=0)"
      ],
      "metadata": {
        "id": "6lrlETzqjnyV"
      },
      "execution_count": 17,
      "outputs": []
    },
    {
      "cell_type": "code",
      "source": [
        "kf = KFold(n_splits=n_fold, shuffle = False)\n",
        "acc_score_gbdt_lv1 = []\n",
        "auc_score_gbdt_lv1 = []\n",
        "f1_gbdt_lv1 = []\n",
        "meta_train_gbdt_lv1 = []\n",
        "meta_test_gbdt_lv1 = []\n",
        "i = 1\n",
        "for train_index, valid_index in kf.split(meta_train_lv0, y_train):\n",
        "    print('KFold {} of {}'.format(i,kf.n_splits))\n",
        "    train_X, val_X = meta_train_lv0.iloc[train_index], meta_train_lv0.iloc[valid_index]\n",
        "    train_y, val_y = y_train.iloc[train_index], y_train.iloc[valid_index]\n",
        "    gbdt_lv1.fit(train_X, train_y)\n",
        "    ####meta\n",
        "    meta_train_gbdt_lv1 = np.append(meta_train_gbdt_lv1, gbdt_lv1.predict_proba(val_X)[:,1]).reshape(-1,1)\n",
        "    \n",
        "    if len(meta_test_gbdt_lv1) == 0:\n",
        "        meta_test_gbdt_lv1 = gbdt_lv1.predict_proba(meta_test_lv0)[:,1].reshape(-1,1)\n",
        "    else:\n",
        "        meta_test_gbdt_lv1 = np.add(meta_test_gbdt_lv1, gbdt_lv1.predict_proba(meta_test_lv0)[:,1].reshape(-1,1))\n",
        "    #####\n",
        "    yhat = gbdt_lv1.predict(meta_test_lv0)\n",
        "    acc_score_gbdt_lv1.append(accuracy_score(yhat,y_test))\n",
        "    auc_score_gbdt_lv1.append(roc_auc_score(yhat,y_test))\n",
        "    f1_gbdt_lv1.append(f1_score(yhat,y_test))\n",
        "    i += 1\n",
        "meta_test_gbdt_lv1 = np.divide(meta_test_gbdt_lv1, n_fold)"
      ],
      "metadata": {
        "colab": {
          "base_uri": "https://localhost:8080/"
        },
        "id": "IPhofHYyj6mY",
        "outputId": "4e69a30a-a343-4ea9-9876-06bc67eb5c91"
      },
      "execution_count": 18,
      "outputs": [
        {
          "output_type": "stream",
          "name": "stdout",
          "text": [
            "KFold 1 of 5\n",
            "      Iter       Train Loss      OOB Improve   Remaining Time \n"
          ]
        },
        {
          "output_type": "stream",
          "name": "stderr",
          "text": [
            "/usr/local/lib/python3.7/dist-packages/sklearn/ensemble/_gb.py:494: DataConversionWarning: A column-vector y was passed when a 1d array was expected. Please change the shape of y to (n_samples, ), for example using ravel().\n",
            "  y = column_or_1d(y, warn=True)\n"
          ]
        },
        {
          "output_type": "stream",
          "name": "stdout",
          "text": [
            "         1           1.2313           0.1129            1.39m\n",
            "         2           1.1323           0.0988            1.39m\n",
            "         3           1.0425           0.0867            1.60m\n",
            "         4           0.9593           0.0784            1.56m\n",
            "         5           0.8891           0.0708            1.52m\n",
            "         6           0.8219           0.0635            1.52m\n",
            "         7           0.7629           0.0574            1.50m\n",
            "         8           0.7101           0.0528            1.49m\n",
            "         9           0.6623           0.0480            1.48m\n",
            "        10           0.6166           0.0439            1.47m\n",
            "        20           0.3189           0.0200            1.42m\n",
            "        30           0.1719           0.0101            1.37m\n",
            "        40           0.0971           0.0053            1.44m\n",
            "        50           0.0557           0.0027            1.57m\n",
            "        60           0.0330           0.0014            1.60m\n",
            "        70           0.0210           0.0007            1.66m\n",
            "        80           0.0145           0.0005            1.69m\n",
            "        90           0.0103           0.0002            1.65m\n",
            "       100           0.0077           0.0001            1.55m\n",
            "       200           0.0011          -0.0000           55.25s\n",
            "       300           0.0002          -0.0000           29.96s\n",
            "       400           0.0000          -0.0000            7.99s\n",
            "KFold 2 of 5\n",
            "      Iter       Train Loss      OOB Improve   Remaining Time \n",
            "         1           1.2316           0.1099            1.30m\n"
          ]
        },
        {
          "output_type": "stream",
          "name": "stderr",
          "text": [
            "/usr/local/lib/python3.7/dist-packages/sklearn/ensemble/_gb.py:494: DataConversionWarning: A column-vector y was passed when a 1d array was expected. Please change the shape of y to (n_samples, ), for example using ravel().\n",
            "  y = column_or_1d(y, warn=True)\n"
          ]
        },
        {
          "output_type": "stream",
          "name": "stdout",
          "text": [
            "         2           1.1327           0.0955            1.32m\n",
            "         3           1.0440           0.0853            1.35m\n",
            "         4           0.9638           0.0764            1.36m\n",
            "         5           0.8926           0.0684            1.37m\n",
            "         6           0.8265           0.0623            1.37m\n",
            "         7           0.7691           0.0565            1.36m\n",
            "         8           0.7174           0.0513            1.37m\n",
            "         9           0.6690           0.0467            1.37m\n",
            "        10           0.6239           0.0428            1.37m\n",
            "        20           0.3287           0.0194            1.35m\n",
            "        30           0.1845           0.0097            1.31m\n",
            "        40           0.1101           0.0049            1.28m\n",
            "        50           0.0670           0.0025            1.24m\n",
            "        60           0.0431           0.0012            1.21m\n",
            "        70           0.0304           0.0006            1.17m\n",
            "        80           0.0237           0.0004            1.14m\n",
            "        90           0.0171           0.0001            1.11m\n",
            "       100           0.0150           0.0001            1.07m\n",
            "       200           0.0027           0.0000           46.30s\n",
            "       300           0.0006          -0.0000           26.47s\n",
            "       400           0.0001          -0.0000            7.23s\n",
            "KFold 3 of 5\n",
            "      Iter       Train Loss      OOB Improve   Remaining Time \n",
            "         1           1.2320           0.1098            1.19m\n"
          ]
        },
        {
          "output_type": "stream",
          "name": "stderr",
          "text": [
            "/usr/local/lib/python3.7/dist-packages/sklearn/ensemble/_gb.py:494: DataConversionWarning: A column-vector y was passed when a 1d array was expected. Please change the shape of y to (n_samples, ), for example using ravel().\n",
            "  y = column_or_1d(y, warn=True)\n"
          ]
        },
        {
          "output_type": "stream",
          "name": "stdout",
          "text": [
            "         2           1.1299           0.0960            1.29m\n",
            "         3           1.0418           0.0853            1.33m\n",
            "         4           0.9631           0.0762            1.34m\n",
            "         5           0.8917           0.0684            1.34m\n",
            "         6           0.8274           0.0623            1.34m\n",
            "         7           0.7694           0.0563            1.34m\n",
            "         8           0.7170           0.0511            1.35m\n",
            "         9           0.6693           0.0464            1.35m\n",
            "        10           0.6235           0.0428            1.35m\n",
            "        20           0.3281           0.0192            1.32m\n",
            "        30           0.1835           0.0096            1.30m\n",
            "        40           0.1085           0.0049            1.27m\n",
            "        50           0.0659           0.0025            1.24m\n",
            "        60           0.0422           0.0012            1.20m\n",
            "        70           0.0302           0.0006            1.16m\n",
            "        80           0.0237           0.0004            1.13m\n",
            "        90           0.0173           0.0002            1.10m\n",
            "       100           0.0152           0.0001            1.06m\n",
            "       200           0.0028          -0.0000           44.58s\n",
            "       300           0.0007          -0.0000           25.70s\n",
            "       400           0.0002          -0.0000            7.09s\n",
            "KFold 4 of 5\n",
            "      Iter       Train Loss      OOB Improve   Remaining Time \n",
            "         1           1.2315           0.1093            1.21m\n"
          ]
        },
        {
          "output_type": "stream",
          "name": "stderr",
          "text": [
            "/usr/local/lib/python3.7/dist-packages/sklearn/ensemble/_gb.py:494: DataConversionWarning: A column-vector y was passed when a 1d array was expected. Please change the shape of y to (n_samples, ), for example using ravel().\n",
            "  y = column_or_1d(y, warn=True)\n"
          ]
        },
        {
          "output_type": "stream",
          "name": "stdout",
          "text": [
            "         2           1.1299           0.0955            1.28m\n",
            "         3           1.0428           0.0845            1.31m\n",
            "         4           0.9689           0.0758            1.33m\n",
            "         5           0.8932           0.0683            1.34m\n",
            "         6           0.8308           0.0621            1.34m\n",
            "         7           0.7711           0.0562            1.35m\n",
            "         8           0.7202           0.0508            1.36m\n",
            "         9           0.6706           0.0465            1.35m\n",
            "        10           0.6253           0.0424            1.36m\n",
            "        20           0.3299           0.0192            1.33m\n",
            "        30           0.1860           0.0096            1.29m\n",
            "        40           0.1102           0.0049            1.26m\n",
            "        50           0.0694           0.0026            1.22m\n",
            "        60           0.0457           0.0012            1.19m\n",
            "        70           0.0319           0.0006            1.16m\n",
            "        80           0.0261           0.0003            1.12m\n",
            "        90           0.0189           0.0001            1.09m\n",
            "       100           0.0164           0.0001            1.06m\n",
            "       200           0.0030          -0.0000           45.12s\n",
            "       300           0.0007          -0.0000           26.59s\n",
            "       400           0.0002          -0.0000            7.26s\n",
            "KFold 5 of 5\n",
            "      Iter       Train Loss      OOB Improve   Remaining Time \n",
            "         1           1.2293           0.1091            1.18m\n"
          ]
        },
        {
          "output_type": "stream",
          "name": "stderr",
          "text": [
            "/usr/local/lib/python3.7/dist-packages/sklearn/ensemble/_gb.py:494: DataConversionWarning: A column-vector y was passed when a 1d array was expected. Please change the shape of y to (n_samples, ), for example using ravel().\n",
            "  y = column_or_1d(y, warn=True)\n"
          ]
        },
        {
          "output_type": "stream",
          "name": "stdout",
          "text": [
            "         2           1.1332           0.0954            1.27m\n",
            "         3           1.0395           0.0858            1.29m\n",
            "         4           0.9644           0.0754            1.31m\n",
            "         5           0.8916           0.0682            1.32m\n",
            "         6           0.8289           0.0618            1.32m\n",
            "         7           0.7699           0.0558            1.32m\n",
            "         8           0.7193           0.0504            1.33m\n",
            "         9           0.6696           0.0469            1.33m\n",
            "        10           0.6252           0.0425            1.33m\n",
            "        20           0.3298           0.0191            1.30m\n",
            "        30           0.1857           0.0096            1.27m\n",
            "        40           0.1112           0.0049            1.24m\n",
            "        50           0.0681           0.0026            1.20m\n",
            "        60           0.0442           0.0013            1.17m\n",
            "        70           0.0318           0.0007            1.14m\n",
            "        80           0.0237           0.0003            1.10m\n",
            "        90           0.0181           0.0001            1.07m\n",
            "       100           0.0149           0.0001            1.04m\n",
            "       200           0.0033          -0.0000           43.80s\n",
            "       300           0.0007          -0.0000           25.41s\n",
            "       400           0.0002          -0.0000            6.99s\n"
          ]
        }
      ]
    },
    {
      "cell_type": "code",
      "source": [
        "yhat = gbdt_lv1.predict(meta_test_lv0)\n",
        "print(\"Accuracy: \" + str(mean(acc_score_gbdt_lv1)) + \" +- \"+ str(std(acc_score_gbdt_lv1)))\n",
        "print(\"ROC-AUC: \" + str(mean(auc_score_gbdt_lv1)) + \" +- \" + str(std(auc_score_gbdt_lv1)))\n",
        "print(\"F1-Score: \" + str(mean(f1_gbdt_lv1)) +\" +- \"+ str(std(f1_gbdt_lv1)))\n",
        "print(classification_report(y_test, yhat))\n",
        "cm = confusion_matrix(yhat, y_test,labels=[0,1])\n",
        "disp = ConfusionMatrixDisplay(confusion_matrix=cm, display_labels=[0,1])\n",
        "disp.plot()\n",
        "RocCurveDisplay.from_predictions(y_test, yhat)\n",
        "plt.show()"
      ],
      "metadata": {
        "colab": {
          "base_uri": "https://localhost:8080/",
          "height": 749
        },
        "id": "WwytvBKJkJhj",
        "outputId": "cca93302-c747-474d-f429-587b728cc8cc"
      },
      "execution_count": 19,
      "outputs": [
        {
          "output_type": "stream",
          "name": "stdout",
          "text": [
            "Accuracy: 0.969081934846989 +- 0.003065244413832237\n",
            "ROC-AUC: 0.9683584547672771 +- 0.002916911339397799\n",
            "F1-Score: 0.9743199918453882 +- 0.002510169475112858\n",
            "              precision    recall  f1-score   support\n",
            "\n",
            "           0       0.97      0.96      0.96      2024\n",
            "           1       0.97      0.98      0.98      3041\n",
            "\n",
            "    accuracy                           0.97      5065\n",
            "   macro avg       0.97      0.97      0.97      5065\n",
            "weighted avg       0.97      0.97      0.97      5065\n",
            "\n"
          ]
        },
        {
          "output_type": "display_data",
          "data": {
            "text/plain": [
              "<Figure size 432x288 with 2 Axes>"
            ],
            "image/png": "[encoded data removed]"
          },
          "metadata": {
            "needs_background": "light"
          }
        },
        {
          "output_type": "display_data",
          "data": {
            "text/plain": [
              "<Figure size 432x288 with 1 Axes>"
            ],
            "image/png": "[encoded data removed]"
          },
          "metadata": {
            "needs_background": "light"
          }
        }
      ]
    },
    {
      "cell_type": "code",
      "source": [
        "####### 1d- CNN ########"
      ],
      "metadata": {
        "id": "mGzeEbAdnROY"
      },
      "execution_count": 20,
      "outputs": []
    },
    {
      "cell_type": "code",
      "source": [
        "def EarlyStop(patience):\n",
        "    return EarlyStopping(\n",
        "    monitor=\"val_accuracy\",\n",
        "    min_delta=0,\n",
        "    patience=patience,\n",
        "    verbose=0,\n",
        "    mode=\"auto\",\n",
        ")\n",
        "\n",
        "def ModelCheckpointFull(model_name):\n",
        "    return ModelCheckpoint(\n",
        "                     filepath=model_name, \n",
        "                     save_freq='epoch', verbose=1, monitor='val_accuracy', \n",
        "                     save_weights_only=True, save_best_only=True\n",
        "                 )"
      ],
      "metadata": {
        "id": "yTjsilvjn2ZQ"
      },
      "execution_count": 21,
      "outputs": []
    },
    {
      "cell_type": "code",
      "source": [
        "# Define 1D - CNN model\n",
        "def create_model(input_shape):\n",
        "    # Model Building\n",
        "    model = Sequential()\n",
        "    model.add(Conv1D(filters=512, kernel_size=3, activation='relu', input_shape=(input_shape,1)))\n",
        "    model.add(Conv1D(filters=256, kernel_size=3, activation='relu'))\n",
        "    model.add(Conv1D(filters=64, kernel_size=3, activation='relu'))\n",
        "    model.add(Dropout(0.2))\n",
        "    model.add(MaxPooling1D(pool_size=2))\n",
        "    model.add(Flatten())\n",
        "    model.add(Dense(64, activation='relu'))\n",
        "    model.add(Dense(1, activation='sigmoid'))\n",
        "    model.compile(loss='binary_crossentropy', optimizer='adam', metrics=['accuracy'])\n",
        "    return model\n",
        "\n",
        "\n",
        "\n",
        "\n",
        "meta_train_lv0_cnn = np.array(meta_train_lv0).reshape(-1, meta_train_lv0.shape[1], 1)\n",
        "meta_test_lv0_cnn = np.array(meta_test_lv0).reshape(-1, meta_test_lv0.shape[1], 1)\n",
        "\n",
        "# 1D-CNN model\n",
        "cnn1d_lv1 = create_model(input_shape = meta_train_lv0_cnn.shape[1])"
      ],
      "metadata": {
        "id": "Q6TQN1Yjn6-c"
      },
      "execution_count": 22,
      "outputs": []
    },
    {
      "cell_type": "code",
      "source": [
        "kf = KFold(n_splits=n_fold, shuffle = False)\n",
        "acc_score_cnn1d_lv1 = []\n",
        "auc_score_cnn1d_lv1 = []\n",
        "f1_cnn1d_lv1 = []\n",
        "meta_train_cnn1d_lv1 = []\n",
        "meta_test_cnn1d_lv1 = []\n",
        "i = 1\n",
        "for train_index, valid_index in kf.split(meta_train_lv0_cnn, y_train):\n",
        "    print('KFold {} of {}'.format(i,kf.n_splits))\n",
        "    train_X, val_X = meta_train_lv0_cnn[train_index], meta_train_lv0_cnn[valid_index]\n",
        "    train_y, val_y = y_train.iloc[train_index], y_train.iloc[valid_index]\n",
        "    cnn1d_lv1.fit(train_X, train_y, validation_data=(val_X, val_y), epochs = 500, \n",
        "            batch_size = 256, \n",
        "            callbacks = [EarlyStop(30), ModelCheckpointFull('./cnn1d_lv1.h5')],\n",
        "            verbose = 0)\n",
        "    ####meta\n",
        "    meta_train_cnn1d_lv1 = np.append(meta_train_cnn1d_lv1, cnn1d_lv1.predict(val_X))\n",
        "    \n",
        "    if len(meta_test_cnn1d_lv1) == 0:\n",
        "        meta_test_cnn1d_lv1 = cnn1d_lv1.predict(meta_test_lv0_cnn)\n",
        "    else:\n",
        "        meta_test_cnn1d_lv1 = np.add(meta_test_cnn1d_lv1, cnn1d_lv1.predict(meta_test_lv0_cnn))\n",
        "    #####\n",
        "    yhat = cnn1d_lv1.predict(meta_test_lv0_cnn).round()\n",
        "    acc_score_cnn1d_lv1.append(accuracy_score(yhat,y_test))\n",
        "    auc_score_cnn1d_lv1.append(roc_auc_score(yhat,y_test))\n",
        "    f1_cnn1d_lv1.append(f1_score(yhat,y_test))\n",
        "    i += 1\n",
        "meta_test_cnn1d_lv1 = np.divide(meta_test_cnn1d_lv1, n_fold)"
      ],
      "metadata": {
        "id": "TLI4gIITn98r",
        "colab": {
          "base_uri": "https://localhost:8080/"
        },
        "outputId": "8dcd17a7-44da-4fe8-ff6d-5232cde63df3"
      },
      "execution_count": 23,
      "outputs": [
        {
          "output_type": "stream",
          "name": "stdout",
          "text": [
            "KFold 1 of 5\n",
            "\n",
            "Epoch 1: val_accuracy improved from -inf to 0.95262, saving model to ./cnn1d_lv1.h5\n",
            "\n",
            "Epoch 2: val_accuracy improved from 0.95262 to 0.95607, saving model to ./cnn1d_lv1.h5\n",
            "\n",
            "Epoch 3: val_accuracy improved from 0.95607 to 0.95706, saving model to ./cnn1d_lv1.h5\n",
            "\n",
            "Epoch 4: val_accuracy did not improve from 0.95706\n",
            "\n",
            "Epoch 5: val_accuracy did not improve from 0.95706\n",
            "\n",
            "Epoch 6: val_accuracy did not improve from 0.95706\n",
            "\n",
            "Epoch 7: val_accuracy did not improve from 0.95706\n",
            "\n",
            "Epoch 8: val_accuracy did not improve from 0.95706\n",
            "\n",
            "Epoch 9: val_accuracy did not improve from 0.95706\n",
            "\n",
            "Epoch 10: val_accuracy did not improve from 0.95706\n",
            "\n",
            "Epoch 11: val_accuracy did not improve from 0.95706\n",
            "\n",
            "Epoch 12: val_accuracy did not improve from 0.95706\n",
            "\n",
            "Epoch 13: val_accuracy did not improve from 0.95706\n",
            "\n",
            "Epoch 14: val_accuracy did not improve from 0.95706\n",
            "\n",
            "Epoch 15: val_accuracy did not improve from 0.95706\n",
            "\n",
            "Epoch 16: val_accuracy did not improve from 0.95706\n",
            "\n",
            "Epoch 17: val_accuracy did not improve from 0.95706\n",
            "\n",
            "Epoch 18: val_accuracy did not improve from 0.95706\n",
            "\n",
            "Epoch 19: val_accuracy did not improve from 0.95706\n",
            "\n",
            "Epoch 20: val_accuracy did not improve from 0.95706\n",
            "\n",
            "Epoch 21: val_accuracy did not improve from 0.95706\n",
            "\n",
            "Epoch 22: val_accuracy did not improve from 0.95706\n",
            "\n",
            "Epoch 23: val_accuracy did not improve from 0.95706\n",
            "\n",
            "Epoch 24: val_accuracy did not improve from 0.95706\n",
            "\n",
            "Epoch 25: val_accuracy did not improve from 0.95706\n",
            "\n",
            "Epoch 26: val_accuracy did not improve from 0.95706\n",
            "\n",
            "Epoch 27: val_accuracy did not improve from 0.95706\n",
            "\n",
            "Epoch 28: val_accuracy did not improve from 0.95706\n",
            "\n",
            "Epoch 29: val_accuracy did not improve from 0.95706\n",
            "\n",
            "Epoch 30: val_accuracy did not improve from 0.95706\n",
            "\n",
            "Epoch 31: val_accuracy did not improve from 0.95706\n",
            "\n",
            "Epoch 32: val_accuracy did not improve from 0.95706\n",
            "\n",
            "Epoch 33: val_accuracy did not improve from 0.95706\n",
            "127/127 [==============================] - 1s 3ms/step\n",
            "159/159 [==============================] - 0s 3ms/step\n",
            "159/159 [==============================] - 0s 2ms/step\n",
            "KFold 2 of 5\n",
            "\n",
            "Epoch 1: val_accuracy improved from -inf to 0.98741, saving model to ./cnn1d_lv1.h5\n",
            "\n",
            "Epoch 2: val_accuracy improved from 0.98741 to 0.98914, saving model to ./cnn1d_lv1.h5\n",
            "\n",
            "Epoch 3: val_accuracy improved from 0.98914 to 0.99013, saving model to ./cnn1d_lv1.h5\n",
            "\n",
            "Epoch 4: val_accuracy did not improve from 0.99013\n",
            "\n",
            "Epoch 5: val_accuracy did not improve from 0.99013\n",
            "\n",
            "Epoch 6: val_accuracy did not improve from 0.99013\n",
            "\n",
            "Epoch 7: val_accuracy did not improve from 0.99013\n",
            "\n",
            "Epoch 8: val_accuracy did not improve from 0.99013\n",
            "\n",
            "Epoch 9: val_accuracy did not improve from 0.99013\n",
            "\n",
            "Epoch 10: val_accuracy did not improve from 0.99013\n",
            "\n",
            "Epoch 11: val_accuracy did not improve from 0.99013\n",
            "\n",
            "Epoch 12: val_accuracy did not improve from 0.99013\n",
            "\n",
            "Epoch 13: val_accuracy did not improve from 0.99013\n",
            "\n",
            "Epoch 14: val_accuracy did not improve from 0.99013\n",
            "\n",
            "Epoch 15: val_accuracy did not improve from 0.99013\n",
            "\n",
            "Epoch 16: val_accuracy did not improve from 0.99013\n",
            "\n",
            "Epoch 17: val_accuracy did not improve from 0.99013\n",
            "\n",
            "Epoch 18: val_accuracy did not improve from 0.99013\n",
            "\n",
            "Epoch 19: val_accuracy did not improve from 0.99013\n",
            "\n",
            "Epoch 20: val_accuracy did not improve from 0.99013\n",
            "\n",
            "Epoch 21: val_accuracy did not improve from 0.99013\n",
            "\n",
            "Epoch 22: val_accuracy did not improve from 0.99013\n",
            "\n",
            "Epoch 23: val_accuracy did not improve from 0.99013\n",
            "\n",
            "Epoch 24: val_accuracy did not improve from 0.99013\n",
            "\n",
            "Epoch 25: val_accuracy did not improve from 0.99013\n",
            "\n",
            "Epoch 26: val_accuracy did not improve from 0.99013\n",
            "\n",
            "Epoch 27: val_accuracy did not improve from 0.99013\n",
            "\n",
            "Epoch 28: val_accuracy did not improve from 0.99013\n",
            "\n",
            "Epoch 29: val_accuracy did not improve from 0.99013\n",
            "\n",
            "Epoch 30: val_accuracy did not improve from 0.99013\n",
            "\n",
            "Epoch 31: val_accuracy did not improve from 0.99013\n",
            "\n",
            "Epoch 32: val_accuracy did not improve from 0.99013\n",
            "\n",
            "Epoch 33: val_accuracy did not improve from 0.99013\n",
            "127/127 [==============================] - 0s 2ms/step\n",
            "159/159 [==============================] - 0s 2ms/step\n",
            "159/159 [==============================] - 0s 2ms/step\n",
            "KFold 3 of 5\n",
            "\n",
            "Epoch 1: val_accuracy improved from -inf to 0.99309, saving model to ./cnn1d_lv1.h5\n",
            "\n",
            "Epoch 2: val_accuracy improved from 0.99309 to 0.99457, saving model to ./cnn1d_lv1.h5\n",
            "\n",
            "Epoch 3: val_accuracy improved from 0.99457 to 0.99506, saving model to ./cnn1d_lv1.h5\n",
            "\n",
            "Epoch 4: val_accuracy did not improve from 0.99506\n",
            "\n",
            "Epoch 5: val_accuracy did not improve from 0.99506\n",
            "\n",
            "Epoch 6: val_accuracy did not improve from 0.99506\n",
            "\n",
            "Epoch 7: val_accuracy did not improve from 0.99506\n",
            "\n",
            "Epoch 8: val_accuracy did not improve from 0.99506\n",
            "\n",
            "Epoch 9: val_accuracy did not improve from 0.99506\n",
            "\n",
            "Epoch 10: val_accuracy did not improve from 0.99506\n",
            "\n",
            "Epoch 11: val_accuracy did not improve from 0.99506\n",
            "\n",
            "Epoch 12: val_accuracy did not improve from 0.99506\n",
            "\n",
            "Epoch 13: val_accuracy did not improve from 0.99506\n",
            "\n",
            "Epoch 14: val_accuracy did not improve from 0.99506\n",
            "\n",
            "Epoch 15: val_accuracy did not improve from 0.99506\n",
            "\n",
            "Epoch 16: val_accuracy did not improve from 0.99506\n",
            "\n",
            "Epoch 17: val_accuracy did not improve from 0.99506\n",
            "\n",
            "Epoch 18: val_accuracy did not improve from 0.99506\n",
            "\n",
            "Epoch 19: val_accuracy did not improve from 0.99506\n",
            "\n",
            "Epoch 20: val_accuracy did not improve from 0.99506\n",
            "\n",
            "Epoch 21: val_accuracy did not improve from 0.99506\n",
            "\n",
            "Epoch 22: val_accuracy did not improve from 0.99506\n",
            "\n",
            "Epoch 23: val_accuracy did not improve from 0.99506\n",
            "\n",
            "Epoch 24: val_accuracy did not improve from 0.99506\n",
            "\n",
            "Epoch 25: val_accuracy did not improve from 0.99506\n",
            "\n",
            "Epoch 26: val_accuracy did not improve from 0.99506\n",
            "\n",
            "Epoch 27: val_accuracy did not improve from 0.99506\n",
            "\n",
            "Epoch 28: val_accuracy did not improve from 0.99506\n",
            "\n",
            "Epoch 29: val_accuracy did not improve from 0.99506\n",
            "\n",
            "Epoch 30: val_accuracy did not improve from 0.99506\n",
            "\n",
            "Epoch 31: val_accuracy did not improve from 0.99506\n",
            "\n",
            "Epoch 32: val_accuracy did not improve from 0.99506\n",
            "\n",
            "Epoch 33: val_accuracy did not improve from 0.99506\n",
            "127/127 [==============================] - 0s 3ms/step\n",
            "159/159 [==============================] - 0s 2ms/step\n",
            "159/159 [==============================] - 0s 2ms/step\n",
            "KFold 4 of 5\n",
            "\n",
            "Epoch 1: val_accuracy improved from -inf to 0.99877, saving model to ./cnn1d_lv1.h5\n",
            "\n",
            "Epoch 2: val_accuracy did not improve from 0.99877\n",
            "\n",
            "Epoch 3: val_accuracy did not improve from 0.99877\n",
            "\n",
            "Epoch 4: val_accuracy did not improve from 0.99877\n",
            "\n",
            "Epoch 5: val_accuracy did not improve from 0.99877\n",
            "\n",
            "Epoch 6: val_accuracy did not improve from 0.99877\n",
            "\n",
            "Epoch 7: val_accuracy did not improve from 0.99877\n",
            "\n",
            "Epoch 8: val_accuracy did not improve from 0.99877\n",
            "\n",
            "Epoch 9: val_accuracy did not improve from 0.99877\n",
            "\n",
            "Epoch 10: val_accuracy did not improve from 0.99877\n",
            "\n",
            "Epoch 11: val_accuracy did not improve from 0.99877\n",
            "\n",
            "Epoch 12: val_accuracy did not improve from 0.99877\n",
            "\n",
            "Epoch 13: val_accuracy did not improve from 0.99877\n",
            "\n",
            "Epoch 14: val_accuracy did not improve from 0.99877\n",
            "\n",
            "Epoch 15: val_accuracy did not improve from 0.99877\n",
            "\n",
            "Epoch 16: val_accuracy did not improve from 0.99877\n",
            "\n",
            "Epoch 17: val_accuracy did not improve from 0.99877\n",
            "\n",
            "Epoch 18: val_accuracy did not improve from 0.99877\n",
            "\n",
            "Epoch 19: val_accuracy did not improve from 0.99877\n",
            "\n",
            "Epoch 20: val_accuracy did not improve from 0.99877\n",
            "\n",
            "Epoch 21: val_accuracy did not improve from 0.99877\n",
            "\n",
            "Epoch 22: val_accuracy did not improve from 0.99877\n",
            "\n",
            "Epoch 23: val_accuracy did not improve from 0.99877\n",
            "\n",
            "Epoch 24: val_accuracy did not improve from 0.99877\n",
            "\n",
            "Epoch 25: val_accuracy did not improve from 0.99877\n",
            "\n",
            "Epoch 26: val_accuracy did not improve from 0.99877\n",
            "\n",
            "Epoch 27: val_accuracy did not improve from 0.99877\n",
            "\n",
            "Epoch 28: val_accuracy did not improve from 0.99877\n",
            "\n",
            "Epoch 29: val_accuracy did not improve from 0.99877\n",
            "\n",
            "Epoch 30: val_accuracy did not improve from 0.99877\n",
            "\n",
            "Epoch 31: val_accuracy did not improve from 0.99877\n",
            "127/127 [==============================] - 0s 3ms/step\n",
            "159/159 [==============================] - 0s 2ms/step\n",
            "159/159 [==============================] - 0s 2ms/step\n",
            "KFold 5 of 5\n",
            "\n",
            "Epoch 1: val_accuracy improved from -inf to 1.00000, saving model to ./cnn1d_lv1.h5\n",
            "\n",
            "Epoch 2: val_accuracy did not improve from 1.00000\n",
            "\n",
            "Epoch 3: val_accuracy did not improve from 1.00000\n",
            "\n",
            "Epoch 4: val_accuracy did not improve from 1.00000\n",
            "\n",
            "Epoch 5: val_accuracy did not improve from 1.00000\n",
            "\n",
            "Epoch 6: val_accuracy did not improve from 1.00000\n",
            "\n",
            "Epoch 7: val_accuracy did not improve from 1.00000\n",
            "\n",
            "Epoch 8: val_accuracy did not improve from 1.00000\n",
            "\n",
            "Epoch 9: val_accuracy did not improve from 1.00000\n",
            "\n",
            "Epoch 10: val_accuracy did not improve from 1.00000\n",
            "\n",
            "Epoch 11: val_accuracy did not improve from 1.00000\n",
            "\n",
            "Epoch 12: val_accuracy did not improve from 1.00000\n",
            "\n",
            "Epoch 13: val_accuracy did not improve from 1.00000\n",
            "\n",
            "Epoch 14: val_accuracy did not improve from 1.00000\n",
            "\n",
            "Epoch 15: val_accuracy did not improve from 1.00000\n",
            "\n",
            "Epoch 16: val_accuracy did not improve from 1.00000\n",
            "\n",
            "Epoch 17: val_accuracy did not improve from 1.00000\n",
            "\n",
            "Epoch 18: val_accuracy did not improve from 1.00000\n",
            "\n",
            "Epoch 19: val_accuracy did not improve from 1.00000\n",
            "\n",
            "Epoch 20: val_accuracy did not improve from 1.00000\n",
            "\n",
            "Epoch 21: val_accuracy did not improve from 1.00000\n",
            "\n",
            "Epoch 22: val_accuracy did not improve from 1.00000\n",
            "\n",
            "Epoch 23: val_accuracy did not improve from 1.00000\n",
            "\n",
            "Epoch 24: val_accuracy did not improve from 1.00000\n",
            "\n",
            "Epoch 25: val_accuracy did not improve from 1.00000\n",
            "\n",
            "Epoch 26: val_accuracy did not improve from 1.00000\n",
            "\n",
            "Epoch 27: val_accuracy did not improve from 1.00000\n",
            "\n",
            "Epoch 28: val_accuracy did not improve from 1.00000\n",
            "\n",
            "Epoch 29: val_accuracy did not improve from 1.00000\n",
            "\n",
            "Epoch 30: val_accuracy did not improve from 1.00000\n",
            "\n",
            "Epoch 31: val_accuracy did not improve from 1.00000\n",
            "127/127 [==============================] - 1s 4ms/step\n",
            "159/159 [==============================] - 0s 2ms/step\n",
            "159/159 [==============================] - 0s 2ms/step\n"
          ]
        }
      ]
    },
    {
      "cell_type": "code",
      "source": [
        "print(\"###1D-CNN Classifier###\\n\")\n",
        "print(\"Accuracy: \" + str(round(mean(acc_score_cnn1d_lv1),4)) + \" +- \"+ str(round(std(acc_score_cnn1d_lv1),4)))\n",
        "print(\"ROC-AUC: \" + str(round(mean(auc_score_cnn1d_lv1),4)) + \" +- \" + str(round(std(auc_score_cnn1d_lv1),4)))\n",
        "print(\"F1-Score: \" + str(round(mean(f1_cnn1d_lv1), 4)) +\" +- \"+ str(round(std(f1_cnn1d_lv1),4)))\n",
        "\n",
        "yhat = cnn1d_lv1.predict(meta_test_lv0_cnn).round()\n",
        "print(classification_report(y_test, yhat))\n",
        "cm = confusion_matrix(yhat, y_test, labels=[0,1])\n",
        "disp = ConfusionMatrixDisplay(confusion_matrix=cm, display_labels=[0,1])\n",
        "disp.plot()\n",
        "RocCurveDisplay.from_predictions(yhat, y_test)\n",
        "plt.show()"
      ],
      "metadata": {
        "id": "LKg6-IsNoMRa",
        "colab": {
          "base_uri": "https://localhost:8080/",
          "height": 801
        },
        "outputId": "a040d4b9-9732-4945-bfda-1f5c5ed0e8b9"
      },
      "execution_count": 24,
      "outputs": [
        {
          "output_type": "stream",
          "name": "stdout",
          "text": [
            "###1D-CNN Classifier###\n",
            "\n",
            "Accuracy: 0.9716 +- 0.0014\n",
            "ROC-AUC: 0.9709 +- 0.0017\n",
            "F1-Score: 0.9764 +- 0.0012\n",
            "159/159 [==============================] - 0s 2ms/step\n",
            "              precision    recall  f1-score   support\n",
            "\n",
            "           0       0.96      0.97      0.97      2024\n",
            "           1       0.98      0.98      0.98      3041\n",
            "\n",
            "    accuracy                           0.97      5065\n",
            "   macro avg       0.97      0.97      0.97      5065\n",
            "weighted avg       0.97      0.97      0.97      5065\n",
            "\n"
          ]
        },
        {
          "output_type": "display_data",
          "data": {
            "text/plain": [
              "<Figure size 432x288 with 2 Axes>"
            ],
            "image/png": "[encoded data removed]"
          },
          "metadata": {
            "needs_background": "light"
          }
        },
        {
          "output_type": "display_data",
          "data": {
            "text/plain": [
              "<Figure size 432x288 with 1 Axes>"
            ],
            "image/png": "[encoded data removed]"
          },
          "metadata": {
            "needs_background": "light"
          }
        }
      ]
    },
    {
      "cell_type": "code",
      "source": [
        "## Random Forest ####"
      ],
      "metadata": {
        "id": "lUi3fMOKykh-"
      },
      "execution_count": 25,
      "outputs": []
    },
    {
      "cell_type": "code",
      "source": [
        "rf_lv1 = RandomForestClassifier(n_estimators=361,\n",
        "                               random_state=42,\n",
        "                           n_jobs = -1,\n",
        "                           verbose = 1)"
      ],
      "metadata": {
        "id": "qQYT6BYxyN33"
      },
      "execution_count": 26,
      "outputs": []
    },
    {
      "cell_type": "code",
      "source": [
        "kf = KFold(n_splits=n_fold, shuffle = False)\n",
        "acc_score_rf_lv1 = []\n",
        "auc_score_rf_lv1 = []\n",
        "f1_rf_lv1 = []\n",
        "meta_train_rf_lv1 = []\n",
        "meta_test_rf_lv1 = []\n",
        "i = 1\n",
        "for train_index, valid_index in kf.split(meta_train_lv0, y_train):\n",
        "    print('KFold {} of {}'.format(i,kf.n_splits))\n",
        "    train_X, val_X = meta_train_lv0.iloc[train_index], meta_train_lv0.iloc[valid_index]\n",
        "    train_y, val_y = y_train.iloc[train_index], y_train.iloc[valid_index]\n",
        "    rf_lv1.fit(train_X, train_y)\n",
        "    ####meta\n",
        "    meta_train_rf_lv1 = np.append(meta_train_rf_lv1, rf_lv1.predict_proba(val_X)[:,1]).reshape(-1,1)\n",
        "    \n",
        "    if len(meta_test_rf_lv1) == 0:\n",
        "        meta_test_rf_lv1 = rf_lv1.predict_proba(meta_test_lv0)[:,1].reshape(-1,1)\n",
        "    else:\n",
        "        meta_test_rf_lv1 = np.add(meta_test_rf_lv1, rf_lv1.predict_proba(meta_test_lv0)[:,1].reshape(-1,1))\n",
        "    #####\n",
        "    \n",
        "    yhat = rf_lv1.predict(meta_test_lv0)\n",
        "    acc_score_rf_lv1.append(accuracy_score(yhat,y_test))\n",
        "    auc_score_rf_lv1.append(roc_auc_score(yhat,y_test))\n",
        "    f1_rf_lv1.append(f1_score(yhat,y_test))\n",
        "    i += 1\n",
        "meta_test_rf_lv1 = np.divide(meta_test_rf_lv1, n_fold)"
      ],
      "metadata": {
        "colab": {
          "base_uri": "https://localhost:8080/"
        },
        "id": "TLZ6jkhgyndo",
        "outputId": "8b8e638d-1483-4d16-9aeb-032d6f4ff241"
      },
      "execution_count": 27,
      "outputs": [
        {
          "output_type": "stream",
          "name": "stdout",
          "text": [
            "KFold 1 of 5\n"
          ]
        },
        {
          "output_type": "stream",
          "name": "stderr",
          "text": [
            "/usr/local/lib/python3.7/dist-packages/ipykernel_launcher.py:12: DataConversionWarning: A column-vector y was passed when a 1d array was expected. Please change the shape of y to (n_samples,), for example using ravel().\n",
            "  if sys.path[0] == '':\n",
            "[Parallel(n_jobs=-1)]: Using backend ThreadingBackend with 2 concurrent workers.\n",
            "[Parallel(n_jobs=-1)]: Done  46 tasks      | elapsed:    0.9s\n",
            "[Parallel(n_jobs=-1)]: Done 196 tasks      | elapsed:    3.8s\n",
            "[Parallel(n_jobs=-1)]: Done 361 out of 361 | elapsed:    6.9s finished\n",
            "[Parallel(n_jobs=2)]: Using backend ThreadingBackend with 2 concurrent workers.\n",
            "[Parallel(n_jobs=2)]: Done  46 tasks      | elapsed:    0.0s\n",
            "[Parallel(n_jobs=2)]: Done 196 tasks      | elapsed:    0.1s\n",
            "[Parallel(n_jobs=2)]: Done 361 out of 361 | elapsed:    0.2s finished\n",
            "[Parallel(n_jobs=2)]: Using backend ThreadingBackend with 2 concurrent workers.\n",
            "[Parallel(n_jobs=2)]: Done  46 tasks      | elapsed:    0.0s\n",
            "[Parallel(n_jobs=2)]: Done 196 tasks      | elapsed:    0.1s\n",
            "[Parallel(n_jobs=2)]: Done 361 out of 361 | elapsed:    0.2s finished\n",
            "[Parallel(n_jobs=2)]: Using backend ThreadingBackend with 2 concurrent workers.\n",
            "[Parallel(n_jobs=2)]: Done  46 tasks      | elapsed:    0.0s\n",
            "[Parallel(n_jobs=2)]: Done 196 tasks      | elapsed:    0.1s\n",
            "[Parallel(n_jobs=2)]: Done 361 out of 361 | elapsed:    0.2s finished\n"
          ]
        },
        {
          "output_type": "stream",
          "name": "stdout",
          "text": [
            "KFold 2 of 5\n"
          ]
        },
        {
          "output_type": "stream",
          "name": "stderr",
          "text": [
            "/usr/local/lib/python3.7/dist-packages/ipykernel_launcher.py:12: DataConversionWarning: A column-vector y was passed when a 1d array was expected. Please change the shape of y to (n_samples,), for example using ravel().\n",
            "  if sys.path[0] == '':\n",
            "[Parallel(n_jobs=-1)]: Using backend ThreadingBackend with 2 concurrent workers.\n",
            "[Parallel(n_jobs=-1)]: Done  46 tasks      | elapsed:    0.9s\n",
            "[Parallel(n_jobs=-1)]: Done 196 tasks      | elapsed:    3.9s\n",
            "[Parallel(n_jobs=-1)]: Done 361 out of 361 | elapsed:    7.1s finished\n",
            "[Parallel(n_jobs=2)]: Using backend ThreadingBackend with 2 concurrent workers.\n",
            "[Parallel(n_jobs=2)]: Done  46 tasks      | elapsed:    0.0s\n",
            "[Parallel(n_jobs=2)]: Done 196 tasks      | elapsed:    0.1s\n",
            "[Parallel(n_jobs=2)]: Done 361 out of 361 | elapsed:    0.2s finished\n",
            "[Parallel(n_jobs=2)]: Using backend ThreadingBackend with 2 concurrent workers.\n",
            "[Parallel(n_jobs=2)]: Done  46 tasks      | elapsed:    0.0s\n",
            "[Parallel(n_jobs=2)]: Done 196 tasks      | elapsed:    0.1s\n",
            "[Parallel(n_jobs=2)]: Done 361 out of 361 | elapsed:    0.2s finished\n",
            "[Parallel(n_jobs=2)]: Using backend ThreadingBackend with 2 concurrent workers.\n",
            "[Parallel(n_jobs=2)]: Done  46 tasks      | elapsed:    0.0s\n",
            "[Parallel(n_jobs=2)]: Done 196 tasks      | elapsed:    0.1s\n",
            "[Parallel(n_jobs=2)]: Done 361 out of 361 | elapsed:    0.2s finished\n",
            "/usr/local/lib/python3.7/dist-packages/ipykernel_launcher.py:12: DataConversionWarning: A column-vector y was passed when a 1d array was expected. Please change the shape of y to (n_samples,), for example using ravel().\n",
            "  if sys.path[0] == '':\n"
          ]
        },
        {
          "output_type": "stream",
          "name": "stdout",
          "text": [
            "KFold 3 of 5\n"
          ]
        },
        {
          "output_type": "stream",
          "name": "stderr",
          "text": [
            "[Parallel(n_jobs=-1)]: Using backend ThreadingBackend with 2 concurrent workers.\n",
            "[Parallel(n_jobs=-1)]: Done  46 tasks      | elapsed:    0.9s\n",
            "[Parallel(n_jobs=-1)]: Done 196 tasks      | elapsed:    3.9s\n",
            "[Parallel(n_jobs=-1)]: Done 361 out of 361 | elapsed:    7.2s finished\n",
            "[Parallel(n_jobs=2)]: Using backend ThreadingBackend with 2 concurrent workers.\n",
            "[Parallel(n_jobs=2)]: Done  46 tasks      | elapsed:    0.0s\n",
            "[Parallel(n_jobs=2)]: Done 196 tasks      | elapsed:    0.1s\n",
            "[Parallel(n_jobs=2)]: Done 361 out of 361 | elapsed:    0.2s finished\n",
            "[Parallel(n_jobs=2)]: Using backend ThreadingBackend with 2 concurrent workers.\n",
            "[Parallel(n_jobs=2)]: Done  46 tasks      | elapsed:    0.0s\n",
            "[Parallel(n_jobs=2)]: Done 196 tasks      | elapsed:    0.1s\n",
            "[Parallel(n_jobs=2)]: Done 361 out of 361 | elapsed:    0.2s finished\n",
            "[Parallel(n_jobs=2)]: Using backend ThreadingBackend with 2 concurrent workers.\n",
            "[Parallel(n_jobs=2)]: Done  46 tasks      | elapsed:    0.0s\n",
            "[Parallel(n_jobs=2)]: Done 196 tasks      | elapsed:    0.1s\n",
            "[Parallel(n_jobs=2)]: Done 361 out of 361 | elapsed:    0.2s finished\n",
            "/usr/local/lib/python3.7/dist-packages/ipykernel_launcher.py:12: DataConversionWarning: A column-vector y was passed when a 1d array was expected. Please change the shape of y to (n_samples,), for example using ravel().\n",
            "  if sys.path[0] == '':\n"
          ]
        },
        {
          "output_type": "stream",
          "name": "stdout",
          "text": [
            "KFold 4 of 5\n"
          ]
        },
        {
          "output_type": "stream",
          "name": "stderr",
          "text": [
            "[Parallel(n_jobs=-1)]: Using backend ThreadingBackend with 2 concurrent workers.\n",
            "[Parallel(n_jobs=-1)]: Done  46 tasks      | elapsed:    0.9s\n",
            "[Parallel(n_jobs=-1)]: Done 196 tasks      | elapsed:    4.0s\n",
            "[Parallel(n_jobs=-1)]: Done 361 out of 361 | elapsed:    7.2s finished\n",
            "[Parallel(n_jobs=2)]: Using backend ThreadingBackend with 2 concurrent workers.\n",
            "[Parallel(n_jobs=2)]: Done  46 tasks      | elapsed:    0.0s\n",
            "[Parallel(n_jobs=2)]: Done 196 tasks      | elapsed:    0.1s\n",
            "[Parallel(n_jobs=2)]: Done 361 out of 361 | elapsed:    0.2s finished\n",
            "[Parallel(n_jobs=2)]: Using backend ThreadingBackend with 2 concurrent workers.\n",
            "[Parallel(n_jobs=2)]: Done  46 tasks      | elapsed:    0.0s\n",
            "[Parallel(n_jobs=2)]: Done 196 tasks      | elapsed:    0.1s\n",
            "[Parallel(n_jobs=2)]: Done 361 out of 361 | elapsed:    0.2s finished\n",
            "[Parallel(n_jobs=2)]: Using backend ThreadingBackend with 2 concurrent workers.\n",
            "[Parallel(n_jobs=2)]: Done  46 tasks      | elapsed:    0.0s\n",
            "[Parallel(n_jobs=2)]: Done 196 tasks      | elapsed:    0.1s\n",
            "[Parallel(n_jobs=2)]: Done 361 out of 361 | elapsed:    0.2s finished\n",
            "/usr/local/lib/python3.7/dist-packages/ipykernel_launcher.py:12: DataConversionWarning: A column-vector y was passed when a 1d array was expected. Please change the shape of y to (n_samples,), for example using ravel().\n",
            "  if sys.path[0] == '':\n"
          ]
        },
        {
          "output_type": "stream",
          "name": "stdout",
          "text": [
            "KFold 5 of 5\n"
          ]
        },
        {
          "output_type": "stream",
          "name": "stderr",
          "text": [
            "[Parallel(n_jobs=-1)]: Using backend ThreadingBackend with 2 concurrent workers.\n",
            "[Parallel(n_jobs=-1)]: Done  46 tasks      | elapsed:    0.9s\n",
            "[Parallel(n_jobs=-1)]: Done 196 tasks      | elapsed:    3.9s\n",
            "[Parallel(n_jobs=-1)]: Done 361 out of 361 | elapsed:    7.2s finished\n",
            "[Parallel(n_jobs=2)]: Using backend ThreadingBackend with 2 concurrent workers.\n",
            "[Parallel(n_jobs=2)]: Done  46 tasks      | elapsed:    0.0s\n",
            "[Parallel(n_jobs=2)]: Done 196 tasks      | elapsed:    0.1s\n",
            "[Parallel(n_jobs=2)]: Done 361 out of 361 | elapsed:    0.2s finished\n",
            "[Parallel(n_jobs=2)]: Using backend ThreadingBackend with 2 concurrent workers.\n",
            "[Parallel(n_jobs=2)]: Done  46 tasks      | elapsed:    0.0s\n",
            "[Parallel(n_jobs=2)]: Done 196 tasks      | elapsed:    0.1s\n",
            "[Parallel(n_jobs=2)]: Done 361 out of 361 | elapsed:    0.2s finished\n",
            "[Parallel(n_jobs=2)]: Using backend ThreadingBackend with 2 concurrent workers.\n",
            "[Parallel(n_jobs=2)]: Done  46 tasks      | elapsed:    0.0s\n",
            "[Parallel(n_jobs=2)]: Done 196 tasks      | elapsed:    0.1s\n",
            "[Parallel(n_jobs=2)]: Done 361 out of 361 | elapsed:    0.2s finished\n"
          ]
        }
      ]
    },
    {
      "cell_type": "code",
      "source": [
        "print(\"###Random Forest Classifier###\\n\")\n",
        "print(\"Accuracy: \" + str(round(mean(acc_score_rf_lv1), 4)) + \" +- \"+ str(round(std(acc_score_rf_lv1),4)))\n",
        "print(\"ROC-AUC: \" + str(round(mean(auc_score_rf_lv1),4)) + \" +- \" + str(round(std(auc_score_rf_lv1), 4)))\n",
        "print(\"F1-Score: \" + str(round(mean(f1_rf_lv1), 4)) +\" +- \"+ str(round(std(f1_rf_lv1),4)))\n",
        "\n",
        "yhat = rf_lv1.predict(meta_test_lv0)\n",
        "print(classification_report(y_test, yhat))\n",
        "cm = confusion_matrix(yhat, y_test, labels=[0,1])\n",
        "disp = ConfusionMatrixDisplay(confusion_matrix=cm, display_labels=[0,1])\n",
        "disp.plot()\n",
        "RocCurveDisplay.from_predictions(yhat, y_test)\n",
        "plt.show()"
      ],
      "metadata": {
        "colab": {
          "base_uri": "https://localhost:8080/",
          "height": 853
        },
        "id": "TaFTrVGtyqdx",
        "outputId": "d2b3deff-c09a-4763-c5f4-1f572c5d344b"
      },
      "execution_count": 28,
      "outputs": [
        {
          "output_type": "stream",
          "name": "stdout",
          "text": [
            "###Random Forest Classifier###\n",
            "\n",
            "Accuracy: 0.9709 +- 0.0014\n",
            "ROC-AUC: 0.9697 +- 0.0013\n",
            "F1-Score: 0.9757 +- 0.0011\n"
          ]
        },
        {
          "output_type": "stream",
          "name": "stderr",
          "text": [
            "[Parallel(n_jobs=2)]: Using backend ThreadingBackend with 2 concurrent workers.\n",
            "[Parallel(n_jobs=2)]: Done  46 tasks      | elapsed:    0.0s\n",
            "[Parallel(n_jobs=2)]: Done 196 tasks      | elapsed:    0.1s\n",
            "[Parallel(n_jobs=2)]: Done 361 out of 361 | elapsed:    0.2s finished\n"
          ]
        },
        {
          "output_type": "stream",
          "name": "stdout",
          "text": [
            "              precision    recall  f1-score   support\n",
            "\n",
            "           0       0.96      0.96      0.96      2024\n",
            "           1       0.98      0.98      0.98      3041\n",
            "\n",
            "    accuracy                           0.97      5065\n",
            "   macro avg       0.97      0.97      0.97      5065\n",
            "weighted avg       0.97      0.97      0.97      5065\n",
            "\n"
          ]
        },
        {
          "output_type": "display_data",
          "data": {
            "text/plain": [
              "<Figure size 432x288 with 2 Axes>"
            ],
            "image/png": "[encoded data removed]"
          },
          "metadata": {
            "needs_background": "light"
          }
        },
        {
          "output_type": "display_data",
          "data": {
            "text/plain": [
              "<Figure size 432x288 with 1 Axes>"
            ],
            "image/png": "[encoded data removed]"
          },
          "metadata": {
            "needs_background": "light"
          }
        }
      ]
    },
    {
      "cell_type": "code",
      "source": [
        "### Catboost ####"
      ],
      "metadata": {
        "id": "OSjNGdZnzTRZ"
      },
      "execution_count": 29,
      "outputs": []
    },
    {
      "cell_type": "code",
      "source": [
        "catb_lv1 = CatBoostClassifier(iterations=450,\n",
        "                           learning_rate=0.05,\n",
        "                           depth=10)"
      ],
      "metadata": {
        "id": "Hf8gJ4IbzMFL"
      },
      "execution_count": 30,
      "outputs": []
    },
    {
      "cell_type": "code",
      "source": [
        "kf = KFold(n_splits=n_fold, shuffle = False)\n",
        "acc_score_catb_lv1 = []\n",
        "auc_score_catb_lv1 = []\n",
        "f1_catb_lv1 = []\n",
        "meta_train_catb_lv1 = []\n",
        "meta_test_catb_lv1 = []\n",
        "i = 1\n",
        "for train_index, valid_index in kf.split(meta_train_lv0, y_train):\n",
        "    print('KFold {} of {}'.format(i,kf.n_splits))\n",
        "    train_X, val_X = meta_train_lv0.iloc[train_index], meta_train_lv0.iloc[valid_index]\n",
        "    train_y, val_y = y_train.iloc[train_index], y_train.iloc[valid_index]\n",
        "    catb_lv1.fit(train_X, train_y, eval_set=[(val_X, val_y)], early_stopping_rounds=200, verbose = 0)\n",
        "    ####meta\n",
        "    meta_train_catb_lv1 = np.append(meta_train_catb_lv1, catb_lv1.predict_proba(val_X)[:,1]).reshape(-1,1)\n",
        "    \n",
        "    if len(meta_test_catb_lv1) == 0:\n",
        "        meta_test_catb_lv1 = catb_lv1.predict_proba(meta_test_lv0)[:,1].reshape(-1,1)\n",
        "    else:\n",
        "        meta_test_catb_lv1 = np.add(meta_test_catb_lv1, catb_lv1.predict_proba(meta_test_lv0)[:,1].reshape(-1,1))\n",
        "    #####\n",
        "    yhat = catb_lv1.predict(meta_test_lv0)\n",
        "    acc_score_catb_lv1.append(accuracy_score(yhat,y_test))\n",
        "    auc_score_catb_lv1.append(roc_auc_score(yhat,y_test))\n",
        "    f1_catb_lv1.append(f1_score(yhat,y_test))\n",
        "    i += 1\n",
        "meta_test_catb_lv1 = np.divide(meta_test_catb_lv1, n_fold)"
      ],
      "metadata": {
        "colab": {
          "base_uri": "https://localhost:8080/"
        },
        "id": "_x-X05M6zWWK",
        "outputId": "234dbe73-012f-4962-8849-c2c4f2d5009e"
      },
      "execution_count": 31,
      "outputs": [
        {
          "output_type": "stream",
          "name": "stdout",
          "text": [
            "KFold 1 of 5\n",
            "KFold 2 of 5\n",
            "KFold 3 of 5\n",
            "KFold 4 of 5\n",
            "KFold 5 of 5\n"
          ]
        }
      ]
    },
    {
      "cell_type": "code",
      "source": [
        "print(\"###catb_lv1oost Classifier###\\n\")\n",
        "print(\"Accuracy: \" + str(round(mean(acc_score_catb_lv1),4)) + \" +- \"+ str(round(std(acc_score_catb_lv1),4)))\n",
        "print(\"ROC-AUC: \" + str(round(mean(auc_score_catb_lv1),4)) + \" +- \" + str(round(std(auc_score_catb_lv1),4)))\n",
        "print(\"F1-Score: \" + str(round(mean(f1_catb_lv1),4)) +\" +- \"+ str(round(std(f1_catb_lv1),4)))\n",
        "\n",
        "yhat = catb_lv1.predict(meta_test_lv0)\n",
        "print(classification_report(y_test, yhat))\n",
        "cm = confusion_matrix(yhat, y_test, labels=[0,1])\n",
        "disp = ConfusionMatrixDisplay(confusion_matrix=cm, display_labels=[0,1])\n",
        "disp.plot()\n",
        "RocCurveDisplay.from_predictions(yhat, y_test)\n",
        "plt.show()"
      ],
      "metadata": {
        "colab": {
          "base_uri": "https://localhost:8080/",
          "height": 784
        },
        "id": "Y0LYZxp_zdZx",
        "outputId": "14639212-0d50-419e-c698-3eee58a85378"
      },
      "execution_count": 32,
      "outputs": [
        {
          "output_type": "stream",
          "name": "stdout",
          "text": [
            "###catb_lv1oost Classifier###\n",
            "\n",
            "Accuracy: 0.9696 +- 0.0038\n",
            "ROC-AUC: 0.9689 +- 0.0035\n",
            "F1-Score: 0.9747 +- 0.0031\n",
            "              precision    recall  f1-score   support\n",
            "\n",
            "           0       0.97      0.96      0.97      2024\n",
            "           1       0.97      0.98      0.98      3041\n",
            "\n",
            "    accuracy                           0.97      5065\n",
            "   macro avg       0.97      0.97      0.97      5065\n",
            "weighted avg       0.97      0.97      0.97      5065\n",
            "\n"
          ]
        },
        {
          "output_type": "display_data",
          "data": {
            "text/plain": [
              "<Figure size 432x288 with 2 Axes>"
            ],
            "image/png": "[encoded data removed]"
          },
          "metadata": {
            "needs_background": "light"
          }
        },
        {
          "output_type": "display_data",
          "data": {
            "text/plain": [
              "<Figure size 432x288 with 1 Axes>"
            ],
            "image/png": "[encoded data removed]"
          },
          "metadata": {
            "needs_background": "light"
          }
        }
      ]
    },
    {
      "cell_type": "code",
      "source": [
        "######### predict level 1 meta data ##########"
      ],
      "metadata": {
        "id": "BY9e04E8xG0Y"
      },
      "execution_count": 33,
      "outputs": []
    },
    {
      "cell_type": "code",
      "source": [
        "meta_train_lv1 = pd.concat([pd.DataFrame(cnn1d_lv1.predict(meta_train_lv0), columns=['cnn1d_lv1_train']),\n",
        "                       pd.DataFrame(gbdt_lv1.predict_proba(meta_train_lv0)[:,1].reshape(-1,1), columns=['gbdt_lv1_train']),\n",
        "                       pd.DataFrame(rf_lv1.predict_proba(meta_train_lv0)[:,1].reshape(-1,1), columns=['rf_lv1_train']),\n",
        "                        pd.DataFrame(catb_lv1.predict_proba(meta_train_lv0)[:,1].reshape(-1,1), columns=['catb_lv1_train'])\n",
        "                        ], axis = 1)"
      ],
      "metadata": {
        "colab": {
          "base_uri": "https://localhost:8080/"
        },
        "id": "Ead0PIEBxdsI",
        "outputId": "e62518da-a160-4d92-9475-0880ecbe2ce5"
      },
      "execution_count": 35,
      "outputs": [
        {
          "output_type": "stream",
          "name": "stdout",
          "text": [
            "634/634 [==============================] - 3s 4ms/step\n"
          ]
        },
        {
          "output_type": "stream",
          "name": "stderr",
          "text": [
            "[Parallel(n_jobs=2)]: Using backend ThreadingBackend with 2 concurrent workers.\n",
            "[Parallel(n_jobs=2)]: Done  46 tasks      | elapsed:    0.1s\n",
            "[Parallel(n_jobs=2)]: Done 196 tasks      | elapsed:    0.3s\n",
            "[Parallel(n_jobs=2)]: Done 361 out of 361 | elapsed:    0.6s finished\n"
          ]
        }
      ]
    },
    {
      "cell_type": "code",
      "source": [
        "meta_test_lv1 = pd.concat([pd.DataFrame(cnn1d_lv1.predict(meta_test_lv0), columns=['cnn1d_lv1_test']),\n",
        "                       pd.DataFrame(gbdt_lv1.predict_proba(meta_test_lv0)[:,1].reshape(-1,1), columns=['gbdt_lv1_test']),\n",
        "                       pd.DataFrame(rf_lv1.predict_proba(meta_test_lv0)[:,1].reshape(-1,1), columns=['rf_lv1_test']),\n",
        "                        pd.DataFrame(catb_lv1.predict_proba(meta_test_lv0)[:,1].reshape(-1,1), columns=['catb_lv1_test'])\n",
        "                        ], axis = 1)"
      ],
      "metadata": {
        "colab": {
          "base_uri": "https://localhost:8080/"
        },
        "id": "d9p6F-Wsxwh5",
        "outputId": "f75cc02e-3758-47ca-e189-a75f3aaa38ab"
      },
      "execution_count": 36,
      "outputs": [
        {
          "output_type": "stream",
          "name": "stdout",
          "text": [
            "159/159 [==============================] - 0s 3ms/step\n"
          ]
        },
        {
          "output_type": "stream",
          "name": "stderr",
          "text": [
            "[Parallel(n_jobs=2)]: Using backend ThreadingBackend with 2 concurrent workers.\n",
            "[Parallel(n_jobs=2)]: Done  46 tasks      | elapsed:    0.0s\n",
            "[Parallel(n_jobs=2)]: Done 196 tasks      | elapsed:    0.1s\n",
            "[Parallel(n_jobs=2)]: Done 361 out of 361 | elapsed:    0.2s finished\n"
          ]
        }
      ]
    },
    {
      "cell_type": "code",
      "source": [
        "###### Logistic Regression lv1 ####"
      ],
      "metadata": {
        "id": "Pbt-AiqCFBPp"
      },
      "execution_count": null,
      "outputs": []
    },
    {
      "cell_type": "code",
      "source": [
        "lr_lv1 = LogisticRegression(random_state=0)"
      ],
      "metadata": {
        "id": "g4XTjnR7yNtw"
      },
      "execution_count": 37,
      "outputs": []
    },
    {
      "cell_type": "code",
      "source": [
        "kf = KFold(n_splits=n_fold, shuffle = False)\n",
        "acc_score_lr_lv1 = []\n",
        "auc_score_lr_lv1 = []\n",
        "f1_lr_lv1 = []\n",
        "meta_train_lr_lv1 = []\n",
        "meta_test_lr_lv1 = []\n",
        "i = 1\n",
        "for train_index, valid_index in kf.split(meta_train_lv1, y_train):\n",
        "    print('KFold {} of {}'.format(i,kf.n_splits))\n",
        "    train_X, val_X = meta_train_lv1.iloc[train_index], meta_train_lv1.iloc[valid_index]\n",
        "    train_y, val_y = y_train.iloc[train_index], y_train.iloc[valid_index]\n",
        "    lr_lv1.fit(train_X, train_y)\n",
        "    ####meta\n",
        "    meta_train_lr_lv1 = np.append(meta_train_lr_lv1, lr_lv1.predict_proba(val_X)[:,1]).reshape(-1,1)\n",
        "    \n",
        "    if len(meta_test_lr_lv1) == 0:\n",
        "        meta_test_lr_lv1 = lr_lv1.predict_proba(meta_test_lv1)[:,1].reshape(-1,1)\n",
        "    else:\n",
        "        meta_test_lr_lv1 = np.add(meta_test_lr_lv1, lr_lv1.predict_proba(meta_test_lv1)[:,1].reshape(-1,1))\n",
        "    #####\n",
        "    yhat = lr_lv1.predict(meta_test_lv1)\n",
        "    acc_score_lr_lv1.append(accuracy_score(yhat,y_test))\n",
        "    auc_score_lr_lv1.append(roc_auc_score(yhat,y_test))\n",
        "    f1_lr_lv1.append(f1_score(yhat,y_test))\n",
        "    i += 1\n",
        "meta_test_lr_lv1 = np.divide(meta_test_lr_lv1, n_fold)"
      ],
      "metadata": {
        "colab": {
          "base_uri": "https://localhost:8080/"
        },
        "id": "SBaqngn0yQgn",
        "outputId": "a2748027-7256-423e-d073-7847d580aeff"
      },
      "execution_count": 38,
      "outputs": [
        {
          "output_type": "stream",
          "name": "stdout",
          "text": [
            "KFold 1 of 5\n",
            "KFold 2 of 5\n",
            "KFold 3 of 5\n",
            "KFold 4 of 5\n"
          ]
        },
        {
          "output_type": "stream",
          "name": "stderr",
          "text": [
            "/usr/local/lib/python3.7/dist-packages/sklearn/utils/validation.py:993: DataConversionWarning: A column-vector y was passed when a 1d array was expected. Please change the shape of y to (n_samples, ), for example using ravel().\n",
            "  y = column_or_1d(y, warn=True)\n",
            "/usr/local/lib/python3.7/dist-packages/sklearn/base.py:493: FutureWarning: The feature names should match those that were passed during fit. Starting version 1.2, an error will be raised.\n",
            "Feature names unseen at fit time:\n",
            "- catb_lv1_test\n",
            "- cnn1d_lv1_test\n",
            "- gbdt_lv1_test\n",
            "- rf_lv1_test\n",
            "Feature names seen at fit time, yet now missing:\n",
            "- catb_lv1_train\n",
            "- cnn1d_lv1_train\n",
            "- gbdt_lv1_train\n",
            "- rf_lv1_train\n",
            "\n",
            "  warnings.warn(message, FutureWarning)\n",
            "/usr/local/lib/python3.7/dist-packages/sklearn/base.py:493: FutureWarning: The feature names should match those that were passed during fit. Starting version 1.2, an error will be raised.\n",
            "Feature names unseen at fit time:\n",
            "- catb_lv1_test\n",
            "- cnn1d_lv1_test\n",
            "- gbdt_lv1_test\n",
            "- rf_lv1_test\n",
            "Feature names seen at fit time, yet now missing:\n",
            "- catb_lv1_train\n",
            "- cnn1d_lv1_train\n",
            "- gbdt_lv1_train\n",
            "- rf_lv1_train\n",
            "\n",
            "  warnings.warn(message, FutureWarning)\n",
            "/usr/local/lib/python3.7/dist-packages/sklearn/utils/validation.py:993: DataConversionWarning: A column-vector y was passed when a 1d array was expected. Please change the shape of y to (n_samples, ), for example using ravel().\n",
            "  y = column_or_1d(y, warn=True)\n",
            "/usr/local/lib/python3.7/dist-packages/sklearn/base.py:493: FutureWarning: The feature names should match those that were passed during fit. Starting version 1.2, an error will be raised.\n",
            "Feature names unseen at fit time:\n",
            "- catb_lv1_test\n",
            "- cnn1d_lv1_test\n",
            "- gbdt_lv1_test\n",
            "- rf_lv1_test\n",
            "Feature names seen at fit time, yet now missing:\n",
            "- catb_lv1_train\n",
            "- cnn1d_lv1_train\n",
            "- gbdt_lv1_train\n",
            "- rf_lv1_train\n",
            "\n",
            "  warnings.warn(message, FutureWarning)\n",
            "/usr/local/lib/python3.7/dist-packages/sklearn/base.py:493: FutureWarning: The feature names should match those that were passed during fit. Starting version 1.2, an error will be raised.\n",
            "Feature names unseen at fit time:\n",
            "- catb_lv1_test\n",
            "- cnn1d_lv1_test\n",
            "- gbdt_lv1_test\n",
            "- rf_lv1_test\n",
            "Feature names seen at fit time, yet now missing:\n",
            "- catb_lv1_train\n",
            "- cnn1d_lv1_train\n",
            "- gbdt_lv1_train\n",
            "- rf_lv1_train\n",
            "\n",
            "  warnings.warn(message, FutureWarning)\n",
            "/usr/local/lib/python3.7/dist-packages/sklearn/utils/validation.py:993: DataConversionWarning: A column-vector y was passed when a 1d array was expected. Please change the shape of y to (n_samples, ), for example using ravel().\n",
            "  y = column_or_1d(y, warn=True)\n",
            "/usr/local/lib/python3.7/dist-packages/sklearn/base.py:493: FutureWarning: The feature names should match those that were passed during fit. Starting version 1.2, an error will be raised.\n",
            "Feature names unseen at fit time:\n",
            "- catb_lv1_test\n",
            "- cnn1d_lv1_test\n",
            "- gbdt_lv1_test\n",
            "- rf_lv1_test\n",
            "Feature names seen at fit time, yet now missing:\n",
            "- catb_lv1_train\n",
            "- cnn1d_lv1_train\n",
            "- gbdt_lv1_train\n",
            "- rf_lv1_train\n",
            "\n",
            "  warnings.warn(message, FutureWarning)\n",
            "/usr/local/lib/python3.7/dist-packages/sklearn/base.py:493: FutureWarning: The feature names should match those that were passed during fit. Starting version 1.2, an error will be raised.\n",
            "Feature names unseen at fit time:\n",
            "- catb_lv1_test\n",
            "- cnn1d_lv1_test\n",
            "- gbdt_lv1_test\n",
            "- rf_lv1_test\n",
            "Feature names seen at fit time, yet now missing:\n",
            "- catb_lv1_train\n",
            "- cnn1d_lv1_train\n",
            "- gbdt_lv1_train\n",
            "- rf_lv1_train\n",
            "\n",
            "  warnings.warn(message, FutureWarning)\n",
            "/usr/local/lib/python3.7/dist-packages/sklearn/utils/validation.py:993: DataConversionWarning: A column-vector y was passed when a 1d array was expected. Please change the shape of y to (n_samples, ), for example using ravel().\n",
            "  y = column_or_1d(y, warn=True)\n"
          ]
        },
        {
          "output_type": "stream",
          "name": "stdout",
          "text": [
            "KFold 5 of 5\n"
          ]
        },
        {
          "output_type": "stream",
          "name": "stderr",
          "text": [
            "/usr/local/lib/python3.7/dist-packages/sklearn/base.py:493: FutureWarning: The feature names should match those that were passed during fit. Starting version 1.2, an error will be raised.\n",
            "Feature names unseen at fit time:\n",
            "- catb_lv1_test\n",
            "- cnn1d_lv1_test\n",
            "- gbdt_lv1_test\n",
            "- rf_lv1_test\n",
            "Feature names seen at fit time, yet now missing:\n",
            "- catb_lv1_train\n",
            "- cnn1d_lv1_train\n",
            "- gbdt_lv1_train\n",
            "- rf_lv1_train\n",
            "\n",
            "  warnings.warn(message, FutureWarning)\n",
            "/usr/local/lib/python3.7/dist-packages/sklearn/base.py:493: FutureWarning: The feature names should match those that were passed during fit. Starting version 1.2, an error will be raised.\n",
            "Feature names unseen at fit time:\n",
            "- catb_lv1_test\n",
            "- cnn1d_lv1_test\n",
            "- gbdt_lv1_test\n",
            "- rf_lv1_test\n",
            "Feature names seen at fit time, yet now missing:\n",
            "- catb_lv1_train\n",
            "- cnn1d_lv1_train\n",
            "- gbdt_lv1_train\n",
            "- rf_lv1_train\n",
            "\n",
            "  warnings.warn(message, FutureWarning)\n",
            "/usr/local/lib/python3.7/dist-packages/sklearn/utils/validation.py:993: DataConversionWarning: A column-vector y was passed when a 1d array was expected. Please change the shape of y to (n_samples, ), for example using ravel().\n",
            "  y = column_or_1d(y, warn=True)\n",
            "/usr/local/lib/python3.7/dist-packages/sklearn/base.py:493: FutureWarning: The feature names should match those that were passed during fit. Starting version 1.2, an error will be raised.\n",
            "Feature names unseen at fit time:\n",
            "- catb_lv1_test\n",
            "- cnn1d_lv1_test\n",
            "- gbdt_lv1_test\n",
            "- rf_lv1_test\n",
            "Feature names seen at fit time, yet now missing:\n",
            "- catb_lv1_train\n",
            "- cnn1d_lv1_train\n",
            "- gbdt_lv1_train\n",
            "- rf_lv1_train\n",
            "\n",
            "  warnings.warn(message, FutureWarning)\n",
            "/usr/local/lib/python3.7/dist-packages/sklearn/base.py:493: FutureWarning: The feature names should match those that were passed during fit. Starting version 1.2, an error will be raised.\n",
            "Feature names unseen at fit time:\n",
            "- catb_lv1_test\n",
            "- cnn1d_lv1_test\n",
            "- gbdt_lv1_test\n",
            "- rf_lv1_test\n",
            "Feature names seen at fit time, yet now missing:\n",
            "- catb_lv1_train\n",
            "- cnn1d_lv1_train\n",
            "- gbdt_lv1_train\n",
            "- rf_lv1_train\n",
            "\n",
            "  warnings.warn(message, FutureWarning)\n"
          ]
        }
      ]
    },
    {
      "cell_type": "code",
      "source": [
        "### Logistic regression lv1 ####\n",
        "yhat = lr_lv1.predict(meta_test_lv1)\n",
        "print(\"Accuracy: \" + str(round(mean(acc_score_lr_lv1),4)) + \" +- \"+ str(round(std(acc_score_lr_lv1),4)))\n",
        "print(\"ROC-AUC: \" + str(round(mean(auc_score_lr_lv1),4)) + \" +- \" + str(round(std(auc_score_lr_lv1),4)))\n",
        "print(\"F1-Score: \" + str(round(mean(f1_lr_lv1),4)) +\" +- \"+ str(round(std(f1_lr_lv1),4)))\n",
        "print(classification_report(y_test, yhat))\n",
        "cm = confusion_matrix(yhat, y_test,labels=[0,1])\n",
        "disp = ConfusionMatrixDisplay(confusion_matrix=cm, display_labels=[0,1])\n",
        "disp.plot()\n",
        "RocCurveDisplay.from_predictions(y_test, yhat)\n",
        "plt.show()"
      ],
      "metadata": {
        "colab": {
          "base_uri": "https://localhost:8080/",
          "height": 995
        },
        "id": "JMTZGfNeyTR1",
        "outputId": "6ff74680-c0b6-4e4c-e851-839e89c86abc"
      },
      "execution_count": 40,
      "outputs": [
        {
          "output_type": "stream",
          "name": "stdout",
          "text": [
            "Accuracy: 0.974 +- 0.0002\n",
            "ROC-AUC: 0.973 +- 0.0001\n",
            "F1-Score: 0.9784 +- 0.0002\n",
            "              precision    recall  f1-score   support\n",
            "\n",
            "           0       0.97      0.96      0.97      2024\n",
            "           1       0.98      0.98      0.98      3041\n",
            "\n",
            "    accuracy                           0.97      5065\n",
            "   macro avg       0.97      0.97      0.97      5065\n",
            "weighted avg       0.97      0.97      0.97      5065\n",
            "\n"
          ]
        },
        {
          "output_type": "stream",
          "name": "stderr",
          "text": [
            "/usr/local/lib/python3.7/dist-packages/sklearn/base.py:493: FutureWarning: The feature names should match those that were passed during fit. Starting version 1.2, an error will be raised.\n",
            "Feature names unseen at fit time:\n",
            "- catb_lv1_test\n",
            "- cnn1d_lv1_test\n",
            "- gbdt_lv1_test\n",
            "- rf_lv1_test\n",
            "Feature names seen at fit time, yet now missing:\n",
            "- catb_lv1_train\n",
            "- cnn1d_lv1_train\n",
            "- gbdt_lv1_train\n",
            "- rf_lv1_train\n",
            "\n",
            "  warnings.warn(message, FutureWarning)\n"
          ]
        },
        {
          "output_type": "display_data",
          "data": {
            "text/plain": [
              "<Figure size 432x288 with 2 Axes>"
            ],
            "image/png": "[encoded data removed]"
          },
          "metadata": {
            "needs_background": "light"
          }
        },
        {
          "output_type": "display_data",
          "data": {
            "text/plain": [
              "<Figure size 432x288 with 1 Axes>"
            ],
            "image/png": "[encoded data removed]"
          },
          "metadata": {
            "needs_background": "light"
          }
        }
      ]
    },
    {
      "cell_type": "code",
      "source": [
        "##### Stacking level 2 #########"
      ],
      "metadata": {
        "id": "tMlbucTEzDNz"
      },
      "execution_count": 43,
      "outputs": []
    },
    {
      "cell_type": "code",
      "source": [
        "meta_train_lv2 = pd.concat([meta_train_lv0, meta_train_lv1], axis = 1)"
      ],
      "metadata": {
        "id": "-Bp8CkOHsoHK"
      },
      "execution_count": 44,
      "outputs": []
    },
    {
      "cell_type": "code",
      "source": [
        "meta_test_lv2 = pd.concat([meta_test_lv0, meta_test_lv1], axis = 1)"
      ],
      "metadata": {
        "id": "7UqXImrS42yv"
      },
      "execution_count": 45,
      "outputs": []
    },
    {
      "cell_type": "code",
      "source": [
        "rf_lv2 = RandomForestClassifier(n_estimators=361,\n",
        "                               random_state=42,\n",
        "                           n_jobs = -1,\n",
        "                           verbose = 1)"
      ],
      "metadata": {
        "id": "_ySQiw_p46vo"
      },
      "execution_count": 46,
      "outputs": []
    },
    {
      "cell_type": "code",
      "source": [
        "kf = KFold(n_splits=n_fold, shuffle = False)\n",
        "acc_score_rf_lv2 = []\n",
        "auc_score_rf_lv2 = []\n",
        "f1_rf_lv2 = []\n",
        "meta_train_rf_lv2 = []\n",
        "meta_test_rf_lv2 = []\n",
        "i = 1\n",
        "for train_index, valid_index in kf.split(meta_train_lv2, y_train):\n",
        "    print('KFold {} of {}'.format(i,kf.n_splits))\n",
        "    train_X, val_X = meta_train_lv2.iloc[train_index], meta_train_lv2.iloc[valid_index]\n",
        "    train_y, val_y = y_train.iloc[train_index], y_train.iloc[valid_index]\n",
        "    rf_lv2.fit(train_X, train_y)\n",
        "    ####meta\n",
        "    meta_train_rf_lv2 = np.append(meta_train_rf_lv2, rf_lv2.predict_proba(val_X)[:,1]).reshape(-1,1)\n",
        "    \n",
        "    if len(meta_test_rf_lv2) == 0:\n",
        "        meta_test_rf_lv2 = rf_lv2.predict_proba(meta_test_lv2)[:,1].reshape(-1,1)\n",
        "    else:\n",
        "        meta_test_rf_lv2 = np.add(meta_test_rf_lv2, rf_lv2.predict_proba(meta_test_lv2)[:,1].reshape(-1,1))\n",
        "    #####\n",
        "    \n",
        "    yhat = rf_lv2.predict(meta_test_lv2)\n",
        "    acc_score_rf_lv2.append(accuracy_score(yhat,y_test))\n",
        "    auc_score_rf_lv2.append(roc_auc_score(yhat,y_test))\n",
        "    f1_rf_lv2.append(f1_score(yhat,y_test))\n",
        "    i += 1\n",
        "meta_test_rf_lv2 = np.divide(meta_test_rf_lv2, n_fold)"
      ],
      "metadata": {
        "colab": {
          "base_uri": "https://localhost:8080/"
        },
        "id": "JI7VwRNMEwgI",
        "outputId": "c4c5c552-e94b-44f2-bf66-d1349ac22698"
      },
      "execution_count": 52,
      "outputs": [
        {
          "output_type": "stream",
          "name": "stdout",
          "text": [
            "KFold 1 of 5\n"
          ]
        },
        {
          "output_type": "stream",
          "name": "stderr",
          "text": [
            "/usr/local/lib/python3.7/dist-packages/ipykernel_launcher.py:12: DataConversionWarning: A column-vector y was passed when a 1d array was expected. Please change the shape of y to (n_samples,), for example using ravel().\n",
            "  if sys.path[0] == '':\n",
            "[Parallel(n_jobs=-1)]: Using backend ThreadingBackend with 2 concurrent workers.\n",
            "[Parallel(n_jobs=-1)]: Done  46 tasks      | elapsed:    0.6s\n",
            "[Parallel(n_jobs=-1)]: Done 196 tasks      | elapsed:    2.2s\n",
            "[Parallel(n_jobs=-1)]: Done 361 out of 361 | elapsed:    4.0s finished\n",
            "[Parallel(n_jobs=2)]: Using backend ThreadingBackend with 2 concurrent workers.\n",
            "[Parallel(n_jobs=2)]: Done  46 tasks      | elapsed:    0.0s\n",
            "[Parallel(n_jobs=2)]: Done 196 tasks      | elapsed:    0.1s\n",
            "[Parallel(n_jobs=2)]: Done 361 out of 361 | elapsed:    0.2s finished\n",
            "/usr/local/lib/python3.7/dist-packages/sklearn/base.py:493: FutureWarning: The feature names should match those that were passed during fit. Starting version 1.2, an error will be raised.\n",
            "Feature names unseen at fit time:\n",
            "- catb_lv1_test\n",
            "- cnn1d_lv1_test\n",
            "- gbdt_lv1_test\n",
            "- rf_lv1_test\n",
            "Feature names seen at fit time, yet now missing:\n",
            "- catb_lv1_train\n",
            "- cnn1d_lv1_train\n",
            "- gbdt_lv1_train\n",
            "- rf_lv1_train\n",
            "\n",
            "  warnings.warn(message, FutureWarning)\n",
            "[Parallel(n_jobs=2)]: Using backend ThreadingBackend with 2 concurrent workers.\n",
            "[Parallel(n_jobs=2)]: Done  46 tasks      | elapsed:    0.0s\n",
            "[Parallel(n_jobs=2)]: Done 196 tasks      | elapsed:    0.1s\n",
            "[Parallel(n_jobs=2)]: Done 361 out of 361 | elapsed:    0.2s finished\n",
            "/usr/local/lib/python3.7/dist-packages/sklearn/base.py:493: FutureWarning: The feature names should match those that were passed during fit. Starting version 1.2, an error will be raised.\n",
            "Feature names unseen at fit time:\n",
            "- catb_lv1_test\n",
            "- cnn1d_lv1_test\n",
            "- gbdt_lv1_test\n",
            "- rf_lv1_test\n",
            "Feature names seen at fit time, yet now missing:\n",
            "- catb_lv1_train\n",
            "- cnn1d_lv1_train\n",
            "- gbdt_lv1_train\n",
            "- rf_lv1_train\n",
            "\n",
            "  warnings.warn(message, FutureWarning)\n",
            "[Parallel(n_jobs=2)]: Using backend ThreadingBackend with 2 concurrent workers.\n",
            "[Parallel(n_jobs=2)]: Done  46 tasks      | elapsed:    0.0s\n",
            "[Parallel(n_jobs=2)]: Done 196 tasks      | elapsed:    0.1s\n",
            "[Parallel(n_jobs=2)]: Done 361 out of 361 | elapsed:    0.2s finished\n"
          ]
        },
        {
          "output_type": "stream",
          "name": "stdout",
          "text": [
            "KFold 2 of 5\n"
          ]
        },
        {
          "output_type": "stream",
          "name": "stderr",
          "text": [
            "/usr/local/lib/python3.7/dist-packages/ipykernel_launcher.py:12: DataConversionWarning: A column-vector y was passed when a 1d array was expected. Please change the shape of y to (n_samples,), for example using ravel().\n",
            "  if sys.path[0] == '':\n",
            "[Parallel(n_jobs=-1)]: Using backend ThreadingBackend with 2 concurrent workers.\n",
            "[Parallel(n_jobs=-1)]: Done  46 tasks      | elapsed:    0.6s\n",
            "[Parallel(n_jobs=-1)]: Done 196 tasks      | elapsed:    2.8s\n",
            "[Parallel(n_jobs=-1)]: Done 361 out of 361 | elapsed:    4.6s finished\n",
            "[Parallel(n_jobs=2)]: Using backend ThreadingBackend with 2 concurrent workers.\n",
            "[Parallel(n_jobs=2)]: Done  46 tasks      | elapsed:    0.0s\n",
            "[Parallel(n_jobs=2)]: Done 196 tasks      | elapsed:    0.1s\n",
            "[Parallel(n_jobs=2)]: Done 361 out of 361 | elapsed:    0.2s finished\n",
            "/usr/local/lib/python3.7/dist-packages/sklearn/base.py:493: FutureWarning: The feature names should match those that were passed during fit. Starting version 1.2, an error will be raised.\n",
            "Feature names unseen at fit time:\n",
            "- catb_lv1_test\n",
            "- cnn1d_lv1_test\n",
            "- gbdt_lv1_test\n",
            "- rf_lv1_test\n",
            "Feature names seen at fit time, yet now missing:\n",
            "- catb_lv1_train\n",
            "- cnn1d_lv1_train\n",
            "- gbdt_lv1_train\n",
            "- rf_lv1_train\n",
            "\n",
            "  warnings.warn(message, FutureWarning)\n",
            "[Parallel(n_jobs=2)]: Using backend ThreadingBackend with 2 concurrent workers.\n",
            "[Parallel(n_jobs=2)]: Done  46 tasks      | elapsed:    0.0s\n",
            "[Parallel(n_jobs=2)]: Done 196 tasks      | elapsed:    0.1s\n",
            "[Parallel(n_jobs=2)]: Done 361 out of 361 | elapsed:    0.2s finished\n",
            "/usr/local/lib/python3.7/dist-packages/sklearn/base.py:493: FutureWarning: The feature names should match those that were passed during fit. Starting version 1.2, an error will be raised.\n",
            "Feature names unseen at fit time:\n",
            "- catb_lv1_test\n",
            "- cnn1d_lv1_test\n",
            "- gbdt_lv1_test\n",
            "- rf_lv1_test\n",
            "Feature names seen at fit time, yet now missing:\n",
            "- catb_lv1_train\n",
            "- cnn1d_lv1_train\n",
            "- gbdt_lv1_train\n",
            "- rf_lv1_train\n",
            "\n",
            "  warnings.warn(message, FutureWarning)\n",
            "[Parallel(n_jobs=2)]: Using backend ThreadingBackend with 2 concurrent workers.\n",
            "[Parallel(n_jobs=2)]: Done  46 tasks      | elapsed:    0.0s\n",
            "[Parallel(n_jobs=2)]: Done 196 tasks      | elapsed:    0.1s\n",
            "[Parallel(n_jobs=2)]: Done 361 out of 361 | elapsed:    0.2s finished\n"
          ]
        },
        {
          "output_type": "stream",
          "name": "stdout",
          "text": [
            "KFold 3 of 5\n"
          ]
        },
        {
          "output_type": "stream",
          "name": "stderr",
          "text": [
            "/usr/local/lib/python3.7/dist-packages/ipykernel_launcher.py:12: DataConversionWarning: A column-vector y was passed when a 1d array was expected. Please change the shape of y to (n_samples,), for example using ravel().\n",
            "  if sys.path[0] == '':\n",
            "[Parallel(n_jobs=-1)]: Using backend ThreadingBackend with 2 concurrent workers.\n",
            "[Parallel(n_jobs=-1)]: Done  46 tasks      | elapsed:    0.5s\n",
            "[Parallel(n_jobs=-1)]: Done 196 tasks      | elapsed:    2.2s\n",
            "[Parallel(n_jobs=-1)]: Done 361 out of 361 | elapsed:    4.0s finished\n",
            "[Parallel(n_jobs=2)]: Using backend ThreadingBackend with 2 concurrent workers.\n",
            "[Parallel(n_jobs=2)]: Done  46 tasks      | elapsed:    0.0s\n",
            "[Parallel(n_jobs=2)]: Done 196 tasks      | elapsed:    0.1s\n",
            "[Parallel(n_jobs=2)]: Done 361 out of 361 | elapsed:    0.2s finished\n",
            "/usr/local/lib/python3.7/dist-packages/sklearn/base.py:493: FutureWarning: The feature names should match those that were passed during fit. Starting version 1.2, an error will be raised.\n",
            "Feature names unseen at fit time:\n",
            "- catb_lv1_test\n",
            "- cnn1d_lv1_test\n",
            "- gbdt_lv1_test\n",
            "- rf_lv1_test\n",
            "Feature names seen at fit time, yet now missing:\n",
            "- catb_lv1_train\n",
            "- cnn1d_lv1_train\n",
            "- gbdt_lv1_train\n",
            "- rf_lv1_train\n",
            "\n",
            "  warnings.warn(message, FutureWarning)\n",
            "[Parallel(n_jobs=2)]: Using backend ThreadingBackend with 2 concurrent workers.\n",
            "[Parallel(n_jobs=2)]: Done  46 tasks      | elapsed:    0.0s\n",
            "[Parallel(n_jobs=2)]: Done 196 tasks      | elapsed:    0.1s\n",
            "[Parallel(n_jobs=2)]: Done 361 out of 361 | elapsed:    0.2s finished\n",
            "/usr/local/lib/python3.7/dist-packages/sklearn/base.py:493: FutureWarning: The feature names should match those that were passed during fit. Starting version 1.2, an error will be raised.\n",
            "Feature names unseen at fit time:\n",
            "- catb_lv1_test\n",
            "- cnn1d_lv1_test\n",
            "- gbdt_lv1_test\n",
            "- rf_lv1_test\n",
            "Feature names seen at fit time, yet now missing:\n",
            "- catb_lv1_train\n",
            "- cnn1d_lv1_train\n",
            "- gbdt_lv1_train\n",
            "- rf_lv1_train\n",
            "\n",
            "  warnings.warn(message, FutureWarning)\n",
            "[Parallel(n_jobs=2)]: Using backend ThreadingBackend with 2 concurrent workers.\n",
            "[Parallel(n_jobs=2)]: Done  46 tasks      | elapsed:    0.0s\n",
            "[Parallel(n_jobs=2)]: Done 196 tasks      | elapsed:    0.1s\n",
            "[Parallel(n_jobs=2)]: Done 361 out of 361 | elapsed:    0.2s finished\n"
          ]
        },
        {
          "output_type": "stream",
          "name": "stdout",
          "text": [
            "KFold 4 of 5\n"
          ]
        },
        {
          "output_type": "stream",
          "name": "stderr",
          "text": [
            "/usr/local/lib/python3.7/dist-packages/ipykernel_launcher.py:12: DataConversionWarning: A column-vector y was passed when a 1d array was expected. Please change the shape of y to (n_samples,), for example using ravel().\n",
            "  if sys.path[0] == '':\n",
            "[Parallel(n_jobs=-1)]: Using backend ThreadingBackend with 2 concurrent workers.\n",
            "[Parallel(n_jobs=-1)]: Done  46 tasks      | elapsed:    0.6s\n",
            "[Parallel(n_jobs=-1)]: Done 196 tasks      | elapsed:    2.3s\n",
            "[Parallel(n_jobs=-1)]: Done 361 out of 361 | elapsed:    4.1s finished\n",
            "[Parallel(n_jobs=2)]: Using backend ThreadingBackend with 2 concurrent workers.\n",
            "[Parallel(n_jobs=2)]: Done  46 tasks      | elapsed:    0.0s\n",
            "[Parallel(n_jobs=2)]: Done 196 tasks      | elapsed:    0.1s\n",
            "[Parallel(n_jobs=2)]: Done 361 out of 361 | elapsed:    0.2s finished\n",
            "/usr/local/lib/python3.7/dist-packages/sklearn/base.py:493: FutureWarning: The feature names should match those that were passed during fit. Starting version 1.2, an error will be raised.\n",
            "Feature names unseen at fit time:\n",
            "- catb_lv1_test\n",
            "- cnn1d_lv1_test\n",
            "- gbdt_lv1_test\n",
            "- rf_lv1_test\n",
            "Feature names seen at fit time, yet now missing:\n",
            "- catb_lv1_train\n",
            "- cnn1d_lv1_train\n",
            "- gbdt_lv1_train\n",
            "- rf_lv1_train\n",
            "\n",
            "  warnings.warn(message, FutureWarning)\n",
            "[Parallel(n_jobs=2)]: Using backend ThreadingBackend with 2 concurrent workers.\n",
            "[Parallel(n_jobs=2)]: Done  46 tasks      | elapsed:    0.0s\n",
            "[Parallel(n_jobs=2)]: Done 196 tasks      | elapsed:    0.1s\n",
            "[Parallel(n_jobs=2)]: Done 361 out of 361 | elapsed:    0.2s finished\n",
            "/usr/local/lib/python3.7/dist-packages/sklearn/base.py:493: FutureWarning: The feature names should match those that were passed during fit. Starting version 1.2, an error will be raised.\n",
            "Feature names unseen at fit time:\n",
            "- catb_lv1_test\n",
            "- cnn1d_lv1_test\n",
            "- gbdt_lv1_test\n",
            "- rf_lv1_test\n",
            "Feature names seen at fit time, yet now missing:\n",
            "- catb_lv1_train\n",
            "- cnn1d_lv1_train\n",
            "- gbdt_lv1_train\n",
            "- rf_lv1_train\n",
            "\n",
            "  warnings.warn(message, FutureWarning)\n",
            "[Parallel(n_jobs=2)]: Using backend ThreadingBackend with 2 concurrent workers.\n",
            "[Parallel(n_jobs=2)]: Done  46 tasks      | elapsed:    0.0s\n",
            "[Parallel(n_jobs=2)]: Done 196 tasks      | elapsed:    0.1s\n",
            "[Parallel(n_jobs=2)]: Done 361 out of 361 | elapsed:    0.2s finished\n",
            "/usr/local/lib/python3.7/dist-packages/ipykernel_launcher.py:12: DataConversionWarning: A column-vector y was passed when a 1d array was expected. Please change the shape of y to (n_samples,), for example using ravel().\n",
            "  if sys.path[0] == '':\n",
            "[Parallel(n_jobs=-1)]: Using backend ThreadingBackend with 2 concurrent workers.\n"
          ]
        },
        {
          "output_type": "stream",
          "name": "stdout",
          "text": [
            "KFold 5 of 5\n"
          ]
        },
        {
          "output_type": "stream",
          "name": "stderr",
          "text": [
            "[Parallel(n_jobs=-1)]: Done  46 tasks      | elapsed:    0.4s\n",
            "[Parallel(n_jobs=-1)]: Done 196 tasks      | elapsed:    1.5s\n",
            "[Parallel(n_jobs=-1)]: Done 361 out of 361 | elapsed:    2.8s finished\n",
            "[Parallel(n_jobs=2)]: Using backend ThreadingBackend with 2 concurrent workers.\n",
            "[Parallel(n_jobs=2)]: Done  46 tasks      | elapsed:    0.0s\n",
            "[Parallel(n_jobs=2)]: Done 196 tasks      | elapsed:    0.1s\n",
            "[Parallel(n_jobs=2)]: Done 361 out of 361 | elapsed:    0.2s finished\n",
            "/usr/local/lib/python3.7/dist-packages/sklearn/base.py:493: FutureWarning: The feature names should match those that were passed during fit. Starting version 1.2, an error will be raised.\n",
            "Feature names unseen at fit time:\n",
            "- catb_lv1_test\n",
            "- cnn1d_lv1_test\n",
            "- gbdt_lv1_test\n",
            "- rf_lv1_test\n",
            "Feature names seen at fit time, yet now missing:\n",
            "- catb_lv1_train\n",
            "- cnn1d_lv1_train\n",
            "- gbdt_lv1_train\n",
            "- rf_lv1_train\n",
            "\n",
            "  warnings.warn(message, FutureWarning)\n",
            "[Parallel(n_jobs=2)]: Using backend ThreadingBackend with 2 concurrent workers.\n",
            "[Parallel(n_jobs=2)]: Done  46 tasks      | elapsed:    0.0s\n",
            "[Parallel(n_jobs=2)]: Done 196 tasks      | elapsed:    0.1s\n",
            "[Parallel(n_jobs=2)]: Done 361 out of 361 | elapsed:    0.2s finished\n",
            "/usr/local/lib/python3.7/dist-packages/sklearn/base.py:493: FutureWarning: The feature names should match those that were passed during fit. Starting version 1.2, an error will be raised.\n",
            "Feature names unseen at fit time:\n",
            "- catb_lv1_test\n",
            "- cnn1d_lv1_test\n",
            "- gbdt_lv1_test\n",
            "- rf_lv1_test\n",
            "Feature names seen at fit time, yet now missing:\n",
            "- catb_lv1_train\n",
            "- cnn1d_lv1_train\n",
            "- gbdt_lv1_train\n",
            "- rf_lv1_train\n",
            "\n",
            "  warnings.warn(message, FutureWarning)\n",
            "[Parallel(n_jobs=2)]: Using backend ThreadingBackend with 2 concurrent workers.\n",
            "[Parallel(n_jobs=2)]: Done  46 tasks      | elapsed:    0.0s\n",
            "[Parallel(n_jobs=2)]: Done 196 tasks      | elapsed:    0.1s\n",
            "[Parallel(n_jobs=2)]: Done 361 out of 361 | elapsed:    0.2s finished\n"
          ]
        }
      ]
    },
    {
      "cell_type": "code",
      "source": [
        "print(\"###Random Forest Classifier###\\n\")\n",
        "print(\"Accuracy: \" + str(round(mean(acc_score_rf_lv2), 4)) + \" +- \"+ str(round(std(acc_score_rf_lv2),4)))\n",
        "print(\"ROC-AUC: \" + str(round(mean(auc_score_rf_lv2),4)) + \" +- \" + str(round(std(auc_score_rf_lv2), 4)))\n",
        "print(\"F1-Score: \" + str(round(mean(f1_rf_lv2), 4)) +\" +- \"+ str(round(std(f1_rf_lv2),4)))\n",
        "\n",
        "yhat = rf_lv2.predict(meta_test_lv2)\n",
        "print(classification_report(y_test, yhat))\n",
        "cm = confusion_matrix(yhat, y_test, labels=[0,1])\n",
        "disp = ConfusionMatrixDisplay(confusion_matrix=cm, display_labels=[0,1])\n",
        "disp.plot()\n",
        "RocCurveDisplay.from_predictions(yhat, y_test)\n",
        "plt.show()"
      ],
      "metadata": {
        "colab": {
          "base_uri": "https://localhost:8080/",
          "height": 1000
        },
        "id": "QHOA0Y_qExEQ",
        "outputId": "ddc6f381-bc17-4cac-c22f-b872098c62b6"
      },
      "execution_count": 53,
      "outputs": [
        {
          "output_type": "stream",
          "name": "stdout",
          "text": [
            "###Random Forest Classifier###\n",
            "\n",
            "Accuracy: 0.9736 +- 0.0003\n",
            "ROC-AUC: 0.973 +- 0.0004\n",
            "F1-Score: 0.978 +- 0.0003\n"
          ]
        },
        {
          "output_type": "stream",
          "name": "stderr",
          "text": [
            "/usr/local/lib/python3.7/dist-packages/sklearn/base.py:493: FutureWarning: The feature names should match those that were passed during fit. Starting version 1.2, an error will be raised.\n",
            "Feature names unseen at fit time:\n",
            "- catb_lv1_test\n",
            "- cnn1d_lv1_test\n",
            "- gbdt_lv1_test\n",
            "- rf_lv1_test\n",
            "Feature names seen at fit time, yet now missing:\n",
            "- catb_lv1_train\n",
            "- cnn1d_lv1_train\n",
            "- gbdt_lv1_train\n",
            "- rf_lv1_train\n",
            "\n",
            "  warnings.warn(message, FutureWarning)\n",
            "[Parallel(n_jobs=2)]: Using backend ThreadingBackend with 2 concurrent workers.\n",
            "[Parallel(n_jobs=2)]: Done  46 tasks      | elapsed:    0.1s\n",
            "[Parallel(n_jobs=2)]: Done 196 tasks      | elapsed:    0.2s\n",
            "[Parallel(n_jobs=2)]: Done 361 out of 361 | elapsed:    0.4s finished\n"
          ]
        },
        {
          "output_type": "stream",
          "name": "stdout",
          "text": [
            "              precision    recall  f1-score   support\n",
            "\n",
            "           0       0.97      0.96      0.97      2024\n",
            "           1       0.98      0.98      0.98      3041\n",
            "\n",
            "    accuracy                           0.97      5065\n",
            "   macro avg       0.97      0.97      0.97      5065\n",
            "weighted avg       0.97      0.97      0.97      5065\n",
            "\n"
          ]
        },
        {
          "output_type": "display_data",
          "data": {
            "text/plain": [
              "<Figure size 432x288 with 2 Axes>"
            ],
            "image/png": "[encoded data removed]"
          },
          "metadata": {
            "needs_background": "light"
          }
        },
        {
          "output_type": "display_data",
          "data": {
            "text/plain": [
              "<Figure size 432x288 with 1 Axes>"
            ],
            "image/png": "[encoded data removed]"
          },
          "metadata": {
            "needs_background": "light"
          }
        }
      ]
    },
    {
      "cell_type": "code",
      "source": [
        "#### 1D-CNN #####"
      ],
      "metadata": {
        "id": "XgP2zqKcE7Ig"
      },
      "execution_count": 49,
      "outputs": []
    },
    {
      "cell_type": "code",
      "source": [
        "meta_train_lv2_cnn = np.array(meta_train_lv2).reshape(-1, meta_train_lv2.shape[1], 1)\n",
        "meta_test_lv2_cnn = np.array(meta_test_lv2).reshape(-1, meta_test_lv2.shape[1], 1)\n",
        "\n",
        "# 1D-CNN model\n",
        "cnn1d_lv2 = create_model(input_shape = meta_train_lv2_cnn.shape[1])"
      ],
      "metadata": {
        "id": "bOMYD4PeFW7y"
      },
      "execution_count": 54,
      "outputs": []
    },
    {
      "cell_type": "code",
      "source": [
        "kf = KFold(n_splits=n_fold, shuffle = False)\n",
        "acc_score_cnn1d_lv2 = []\n",
        "auc_score_cnn1d_lv2 = []\n",
        "f1_cnn1d_lv2 = []\n",
        "meta_train_cnn1d_lv2 = []\n",
        "meta_test_cnn1d_lv2 = []\n",
        "i = 1\n",
        "for train_index, valid_index in kf.split(meta_train_lv2_cnn, y_train):\n",
        "    print('KFold {} of {}'.format(i,kf.n_splits))\n",
        "    train_X, val_X = meta_train_lv2_cnn[train_index], meta_train_lv2_cnn[valid_index]\n",
        "    train_y, val_y = y_train.iloc[train_index], y_train.iloc[valid_index]\n",
        "    cnn1d_lv2.fit(train_X, train_y, validation_data=(val_X, val_y), epochs = 500, \n",
        "            batch_size = 256, \n",
        "            callbacks = [EarlyStop(20), ModelCheckpointFull('./cnn1d_lv2.h5')],\n",
        "            verbose = 0)\n",
        "    ####meta\n",
        "    meta_train_cnn1d_lv2 = np.append(meta_train_cnn1d_lv2, cnn1d_lv2.predict(val_X))\n",
        "    \n",
        "    if len(meta_test_cnn1d_lv2) == 0:\n",
        "        meta_test_cnn1d_lv2 = cnn1d_lv2.predict(meta_test_lv2_cnn)\n",
        "    else:\n",
        "        meta_test_cnn1d_lv2 = np.add(meta_test_cnn1d_lv2, cnn1d_lv2.predict(meta_test_lv2_cnn))\n",
        "    #####\n",
        "    yhat = cnn1d_lv2.predict(meta_test_lv2_cnn).round()\n",
        "    acc_score_cnn1d_lv2.append(accuracy_score(yhat,y_test))\n",
        "    auc_score_cnn1d_lv2.append(roc_auc_score(yhat,y_test))\n",
        "    f1_cnn1d_lv2.append(f1_score(yhat,y_test))\n",
        "    i += 1\n",
        "meta_test_cnn1d_lv2 = np.divide(meta_test_cnn1d_lv2, n_fold)"
      ],
      "metadata": {
        "colab": {
          "base_uri": "https://localhost:8080/"
        },
        "id": "81jn-hhFFozR",
        "outputId": "c2f0d8a4-2a90-4f63-a830-94ce84f8b1eb"
      },
      "execution_count": 56,
      "outputs": [
        {
          "output_type": "stream",
          "name": "stdout",
          "text": [
            "KFold 1 of 5\n",
            "\n",
            "Epoch 1: val_accuracy improved from -inf to 1.00000, saving model to ./cnn1d_lv2.h5\n",
            "\n",
            "Epoch 2: val_accuracy did not improve from 1.00000\n",
            "\n",
            "Epoch 3: val_accuracy did not improve from 1.00000\n",
            "\n",
            "Epoch 4: val_accuracy did not improve from 1.00000\n",
            "\n",
            "Epoch 5: val_accuracy did not improve from 1.00000\n",
            "\n",
            "Epoch 6: val_accuracy did not improve from 1.00000\n",
            "\n",
            "Epoch 7: val_accuracy did not improve from 1.00000\n",
            "\n",
            "Epoch 8: val_accuracy did not improve from 1.00000\n",
            "\n",
            "Epoch 9: val_accuracy did not improve from 1.00000\n",
            "\n",
            "Epoch 10: val_accuracy did not improve from 1.00000\n",
            "\n",
            "Epoch 11: val_accuracy did not improve from 1.00000\n",
            "\n",
            "Epoch 12: val_accuracy did not improve from 1.00000\n",
            "\n",
            "Epoch 13: val_accuracy did not improve from 1.00000\n",
            "\n",
            "Epoch 14: val_accuracy did not improve from 1.00000\n",
            "\n",
            "Epoch 15: val_accuracy did not improve from 1.00000\n",
            "\n",
            "Epoch 16: val_accuracy did not improve from 1.00000\n",
            "\n",
            "Epoch 17: val_accuracy did not improve from 1.00000\n",
            "\n",
            "Epoch 18: val_accuracy did not improve from 1.00000\n",
            "\n",
            "Epoch 19: val_accuracy did not improve from 1.00000\n",
            "\n",
            "Epoch 20: val_accuracy did not improve from 1.00000\n",
            "\n",
            "Epoch 21: val_accuracy did not improve from 1.00000\n",
            "127/127 [==============================] - 0s 3ms/step\n",
            "159/159 [==============================] - 0s 2ms/step\n",
            "159/159 [==============================] - 0s 2ms/step\n",
            "KFold 2 of 5\n",
            "\n",
            "Epoch 1: val_accuracy improved from -inf to 1.00000, saving model to ./cnn1d_lv2.h5\n",
            "\n",
            "Epoch 2: val_accuracy did not improve from 1.00000\n",
            "\n",
            "Epoch 3: val_accuracy did not improve from 1.00000\n",
            "\n",
            "Epoch 4: val_accuracy did not improve from 1.00000\n",
            "\n",
            "Epoch 5: val_accuracy did not improve from 1.00000\n",
            "\n",
            "Epoch 6: val_accuracy did not improve from 1.00000\n",
            "\n",
            "Epoch 7: val_accuracy did not improve from 1.00000\n",
            "\n",
            "Epoch 8: val_accuracy did not improve from 1.00000\n",
            "\n",
            "Epoch 9: val_accuracy did not improve from 1.00000\n",
            "\n",
            "Epoch 10: val_accuracy did not improve from 1.00000\n",
            "\n",
            "Epoch 11: val_accuracy did not improve from 1.00000\n",
            "\n",
            "Epoch 12: val_accuracy did not improve from 1.00000\n",
            "\n",
            "Epoch 13: val_accuracy did not improve from 1.00000\n",
            "\n",
            "Epoch 14: val_accuracy did not improve from 1.00000\n",
            "\n",
            "Epoch 15: val_accuracy did not improve from 1.00000\n",
            "\n",
            "Epoch 16: val_accuracy did not improve from 1.00000\n",
            "\n",
            "Epoch 17: val_accuracy did not improve from 1.00000\n",
            "\n",
            "Epoch 18: val_accuracy did not improve from 1.00000\n",
            "\n",
            "Epoch 19: val_accuracy did not improve from 1.00000\n",
            "\n",
            "Epoch 20: val_accuracy did not improve from 1.00000\n",
            "\n",
            "Epoch 21: val_accuracy did not improve from 1.00000\n",
            "127/127 [==============================] - 0s 4ms/step\n",
            "159/159 [==============================] - 1s 4ms/step\n",
            "159/159 [==============================] - 1s 4ms/step\n",
            "KFold 3 of 5\n",
            "\n",
            "Epoch 1: val_accuracy improved from -inf to 1.00000, saving model to ./cnn1d_lv2.h5\n",
            "\n",
            "Epoch 2: val_accuracy did not improve from 1.00000\n",
            "\n",
            "Epoch 3: val_accuracy did not improve from 1.00000\n",
            "\n",
            "Epoch 4: val_accuracy did not improve from 1.00000\n",
            "\n",
            "Epoch 5: val_accuracy did not improve from 1.00000\n",
            "\n",
            "Epoch 6: val_accuracy did not improve from 1.00000\n",
            "\n",
            "Epoch 7: val_accuracy did not improve from 1.00000\n",
            "\n",
            "Epoch 8: val_accuracy did not improve from 1.00000\n",
            "\n",
            "Epoch 9: val_accuracy did not improve from 1.00000\n",
            "\n",
            "Epoch 10: val_accuracy did not improve from 1.00000\n",
            "\n",
            "Epoch 11: val_accuracy did not improve from 1.00000\n",
            "\n",
            "Epoch 12: val_accuracy did not improve from 1.00000\n",
            "\n",
            "Epoch 13: val_accuracy did not improve from 1.00000\n",
            "\n",
            "Epoch 14: val_accuracy did not improve from 1.00000\n",
            "\n",
            "Epoch 15: val_accuracy did not improve from 1.00000\n",
            "\n",
            "Epoch 16: val_accuracy did not improve from 1.00000\n",
            "\n",
            "Epoch 17: val_accuracy did not improve from 1.00000\n",
            "\n",
            "Epoch 18: val_accuracy did not improve from 1.00000\n",
            "\n",
            "Epoch 19: val_accuracy did not improve from 1.00000\n",
            "\n",
            "Epoch 20: val_accuracy did not improve from 1.00000\n",
            "\n",
            "Epoch 21: val_accuracy did not improve from 1.00000\n",
            "127/127 [==============================] - 0s 2ms/step\n",
            "159/159 [==============================] - 0s 2ms/step\n",
            "159/159 [==============================] - 0s 2ms/step\n",
            "KFold 4 of 5\n",
            "\n",
            "Epoch 1: val_accuracy improved from -inf to 1.00000, saving model to ./cnn1d_lv2.h5\n",
            "\n",
            "Epoch 2: val_accuracy did not improve from 1.00000\n",
            "\n",
            "Epoch 3: val_accuracy did not improve from 1.00000\n",
            "\n",
            "Epoch 4: val_accuracy did not improve from 1.00000\n",
            "\n",
            "Epoch 5: val_accuracy did not improve from 1.00000\n",
            "\n",
            "Epoch 6: val_accuracy did not improve from 1.00000\n",
            "\n",
            "Epoch 7: val_accuracy did not improve from 1.00000\n",
            "\n",
            "Epoch 8: val_accuracy did not improve from 1.00000\n",
            "\n",
            "Epoch 9: val_accuracy did not improve from 1.00000\n",
            "\n",
            "Epoch 10: val_accuracy did not improve from 1.00000\n",
            "\n",
            "Epoch 11: val_accuracy did not improve from 1.00000\n",
            "\n",
            "Epoch 12: val_accuracy did not improve from 1.00000\n",
            "\n",
            "Epoch 13: val_accuracy did not improve from 1.00000\n",
            "\n",
            "Epoch 14: val_accuracy did not improve from 1.00000\n",
            "\n",
            "Epoch 15: val_accuracy did not improve from 1.00000\n",
            "\n",
            "Epoch 16: val_accuracy did not improve from 1.00000\n",
            "\n",
            "Epoch 17: val_accuracy did not improve from 1.00000\n",
            "\n",
            "Epoch 18: val_accuracy did not improve from 1.00000\n",
            "\n",
            "Epoch 19: val_accuracy did not improve from 1.00000\n",
            "\n",
            "Epoch 20: val_accuracy did not improve from 1.00000\n",
            "\n",
            "Epoch 21: val_accuracy did not improve from 1.00000\n",
            "127/127 [==============================] - 0s 3ms/step\n",
            "159/159 [==============================] - 0s 2ms/step\n",
            "159/159 [==============================] - 0s 2ms/step\n",
            "KFold 5 of 5\n",
            "\n",
            "Epoch 1: val_accuracy improved from -inf to 1.00000, saving model to ./cnn1d_lv2.h5\n",
            "\n",
            "Epoch 2: val_accuracy did not improve from 1.00000\n",
            "\n",
            "Epoch 3: val_accuracy did not improve from 1.00000\n",
            "\n",
            "Epoch 4: val_accuracy did not improve from 1.00000\n",
            "\n",
            "Epoch 5: val_accuracy did not improve from 1.00000\n",
            "\n",
            "Epoch 6: val_accuracy did not improve from 1.00000\n",
            "\n",
            "Epoch 7: val_accuracy did not improve from 1.00000\n",
            "\n",
            "Epoch 8: val_accuracy did not improve from 1.00000\n",
            "\n",
            "Epoch 9: val_accuracy did not improve from 1.00000\n",
            "\n",
            "Epoch 10: val_accuracy did not improve from 1.00000\n",
            "\n",
            "Epoch 11: val_accuracy did not improve from 1.00000\n",
            "\n",
            "Epoch 12: val_accuracy did not improve from 1.00000\n",
            "\n",
            "Epoch 13: val_accuracy did not improve from 1.00000\n",
            "\n",
            "Epoch 14: val_accuracy did not improve from 1.00000\n",
            "\n",
            "Epoch 15: val_accuracy did not improve from 1.00000\n",
            "\n",
            "Epoch 16: val_accuracy did not improve from 1.00000\n",
            "\n",
            "Epoch 17: val_accuracy did not improve from 1.00000\n",
            "\n",
            "Epoch 18: val_accuracy did not improve from 1.00000\n",
            "\n",
            "Epoch 19: val_accuracy did not improve from 1.00000\n",
            "\n",
            "Epoch 20: val_accuracy did not improve from 1.00000\n",
            "\n",
            "Epoch 21: val_accuracy did not improve from 1.00000\n",
            "127/127 [==============================] - 1s 4ms/step\n",
            "159/159 [==============================] - 0s 2ms/step\n",
            "159/159 [==============================] - 0s 2ms/step\n"
          ]
        }
      ]
    },
    {
      "cell_type": "code",
      "source": [
        "print(\"###1D-CNN Classifier###\\n\")\n",
        "print(\"Accuracy: \" + str(round(mean(acc_score_cnn1d_lv2),4)) + \" +- \"+ str(round(std(acc_score_cnn1d_lv2),4)))\n",
        "print(\"ROC-AUC: \" + str(round(mean(auc_score_cnn1d_lv2),4)) + \" +- \" + str(round(std(auc_score_cnn1d_lv2),4)))\n",
        "print(\"F1-Score: \" + str(round(mean(f1_cnn1d_lv2), 4)) +\" +- \"+ str(round(std(f1_cnn1d_lv2),4)))\n",
        "\n",
        "yhat = cnn1d_lv2.predict(meta_test_lv2_cnn).round()\n",
        "print(classification_report(y_test, yhat))\n",
        "cm = confusion_matrix(yhat, y_test, labels=[0,1])\n",
        "disp = ConfusionMatrixDisplay(confusion_matrix=cm, display_labels=[0,1])\n",
        "disp.plot()\n",
        "RocCurveDisplay.from_predictions(yhat, y_test)\n",
        "plt.show()"
      ],
      "metadata": {
        "colab": {
          "base_uri": "https://localhost:8080/",
          "height": 801
        },
        "id": "v_3sgq12FzXL",
        "outputId": "4eec2fae-744c-4830-9452-cb7c7897a1da"
      },
      "execution_count": 57,
      "outputs": [
        {
          "output_type": "stream",
          "name": "stdout",
          "text": [
            "###1D-CNN Classifier###\n",
            "\n",
            "Accuracy: 0.9724 +- 0.0002\n",
            "ROC-AUC: 0.9719 +- 0.0004\n",
            "F1-Score: 0.9771 +- 0.0002\n",
            "159/159 [==============================] - 0s 3ms/step\n",
            "              precision    recall  f1-score   support\n",
            "\n",
            "           0       0.97      0.96      0.97      2024\n",
            "           1       0.97      0.98      0.98      3041\n",
            "\n",
            "    accuracy                           0.97      5065\n",
            "   macro avg       0.97      0.97      0.97      5065\n",
            "weighted avg       0.97      0.97      0.97      5065\n",
            "\n"
          ]
        },
        {
          "output_type": "display_data",
          "data": {
            "text/plain": [
              "<Figure size 432x288 with 2 Axes>"
            ],
            "image/png": "[encoded data removed]"
          },
          "metadata": {
            "needs_background": "light"
          }
        },
        {
          "output_type": "display_data",
          "data": {
            "text/plain": [
              "<Figure size 432x288 with 1 Axes>"
            ],
            "image/png": "[encoded data removed]"
          },
          "metadata": {
            "needs_background": "light"
          }
        }
      ]
    },
    {
      "cell_type": "code",
      "source": [
        "######### predict level 2 meta data ##########"
      ],
      "metadata": {
        "id": "-2uwte-kF4dP"
      },
      "execution_count": 58,
      "outputs": []
    },
    {
      "cell_type": "code",
      "source": [
        "meta_train_final = pd.concat([pd.DataFrame(cnn1d_lv2.predict(meta_train_lv2), columns=['cnn1d_final_train']),\n",
        "                       pd.DataFrame(rf_lv2.predict_proba(meta_train_lv2)[:,1].reshape(-1,1), columns=['rf_final_train'])\n",
        "                        ], axis = 1)"
      ],
      "metadata": {
        "colab": {
          "base_uri": "https://localhost:8080/"
        },
        "id": "9BosZAQnF5gc",
        "outputId": "ab476114-8f54-43c5-d98c-61038f4b3e2e"
      },
      "execution_count": 62,
      "outputs": [
        {
          "output_type": "stream",
          "name": "stdout",
          "text": [
            "634/634 [==============================] - 1s 2ms/step\n"
          ]
        },
        {
          "output_type": "stream",
          "name": "stderr",
          "text": [
            "[Parallel(n_jobs=2)]: Using backend ThreadingBackend with 2 concurrent workers.\n",
            "[Parallel(n_jobs=2)]: Done  46 tasks      | elapsed:    0.0s\n",
            "[Parallel(n_jobs=2)]: Done 196 tasks      | elapsed:    0.2s\n",
            "[Parallel(n_jobs=2)]: Done 361 out of 361 | elapsed:    0.3s finished\n"
          ]
        }
      ]
    },
    {
      "cell_type": "code",
      "source": [
        "meta_test_final = pd.concat([pd.DataFrame(cnn1d_lv2.predict(meta_test_lv2), columns=['cnn1d_final_test']),\n",
        "                       pd.DataFrame(rf_lv2.predict_proba(meta_test_lv2)[:,1].reshape(-1,1), columns=['rf_final_test'])\n",
        "                        ], axis = 1)"
      ],
      "metadata": {
        "colab": {
          "base_uri": "https://localhost:8080/"
        },
        "id": "blXyHOuSGGYP",
        "outputId": "6c9f441e-62b8-45f3-ae34-1bdb13fdee96"
      },
      "execution_count": 63,
      "outputs": [
        {
          "output_type": "stream",
          "name": "stdout",
          "text": [
            "159/159 [==============================] - 0s 2ms/step\n"
          ]
        },
        {
          "output_type": "stream",
          "name": "stderr",
          "text": [
            "/usr/local/lib/python3.7/dist-packages/sklearn/base.py:493: FutureWarning: The feature names should match those that were passed during fit. Starting version 1.2, an error will be raised.\n",
            "Feature names unseen at fit time:\n",
            "- catb_lv1_test\n",
            "- cnn1d_lv1_test\n",
            "- gbdt_lv1_test\n",
            "- rf_lv1_test\n",
            "Feature names seen at fit time, yet now missing:\n",
            "- catb_lv1_train\n",
            "- cnn1d_lv1_train\n",
            "- gbdt_lv1_train\n",
            "- rf_lv1_train\n",
            "\n",
            "  warnings.warn(message, FutureWarning)\n",
            "[Parallel(n_jobs=2)]: Using backend ThreadingBackend with 2 concurrent workers.\n",
            "[Parallel(n_jobs=2)]: Done  46 tasks      | elapsed:    0.0s\n",
            "[Parallel(n_jobs=2)]: Done 196 tasks      | elapsed:    0.1s\n",
            "[Parallel(n_jobs=2)]: Done 361 out of 361 | elapsed:    0.2s finished\n"
          ]
        }
      ]
    },
    {
      "cell_type": "code",
      "source": [
        "###### Logistic Regression lv2 ####"
      ],
      "metadata": {
        "id": "YTV3LA-MGLCA"
      },
      "execution_count": 64,
      "outputs": []
    },
    {
      "cell_type": "code",
      "source": [
        "lr_lv2 = LogisticRegression(random_state=0)"
      ],
      "metadata": {
        "id": "id9sGRSiGTKo"
      },
      "execution_count": 65,
      "outputs": []
    },
    {
      "cell_type": "code",
      "source": [
        "kf = KFold(n_splits=n_fold, shuffle = False)\n",
        "acc_score_lr_lv2 = []\n",
        "auc_score_lr_lv2 = []\n",
        "f1_lr_lv2 = []\n",
        "meta_train_lr_lv2 = []\n",
        "meta_test_lr_lv2 = []\n",
        "i = 1\n",
        "for train_index, valid_index in kf.split(meta_train_final, y_train):\n",
        "    print('KFold {} of {}'.format(i,kf.n_splits))\n",
        "    train_X, val_X = meta_train_final.iloc[train_index], meta_train_final.iloc[valid_index]\n",
        "    train_y, val_y = y_train.iloc[train_index], y_train.iloc[valid_index]\n",
        "    lr_lv2.fit(train_X, train_y)\n",
        "    ####meta\n",
        "    meta_train_lr_lv2 = np.append(meta_train_lr_lv2, lr_lv2.predict_proba(val_X)[:,1]).reshape(-1,1)\n",
        "    \n",
        "    if len(meta_test_lr_lv2) == 0:\n",
        "        meta_test_lr_lv2 = lr_lv2.predict_proba(meta_test_final)[:,1].reshape(-1,1)\n",
        "    else:\n",
        "        meta_test_lr_lv2 = np.add(meta_test_lr_lv2, lr_lv2.predict_proba(meta_test_final)[:,1].reshape(-1,1))\n",
        "    #####\n",
        "    yhat = lr_lv2.predict(meta_test_final)\n",
        "    acc_score_lr_lv2.append(accuracy_score(yhat,y_test))\n",
        "    auc_score_lr_lv2.append(roc_auc_score(yhat,y_test))\n",
        "    f1_lr_lv2.append(f1_score(yhat,y_test))\n",
        "    i += 1\n",
        "meta_test_lr_lv2 = np.divide(meta_test_lr_lv2, n_fold)"
      ],
      "metadata": {
        "colab": {
          "base_uri": "https://localhost:8080/"
        },
        "id": "Jk6mVVQLGUJD",
        "outputId": "53e697b0-80fb-4cb0-e40b-3d44a69cef54"
      },
      "execution_count": 66,
      "outputs": [
        {
          "output_type": "stream",
          "name": "stdout",
          "text": [
            "KFold 1 of 5\n",
            "KFold 2 of 5\n",
            "KFold 3 of 5\n",
            "KFold 4 of 5\n"
          ]
        },
        {
          "output_type": "stream",
          "name": "stderr",
          "text": [
            "/usr/local/lib/python3.7/dist-packages/sklearn/utils/validation.py:993: DataConversionWarning: A column-vector y was passed when a 1d array was expected. Please change the shape of y to (n_samples, ), for example using ravel().\n",
            "  y = column_or_1d(y, warn=True)\n",
            "/usr/local/lib/python3.7/dist-packages/sklearn/base.py:493: FutureWarning: The feature names should match those that were passed during fit. Starting version 1.2, an error will be raised.\n",
            "Feature names unseen at fit time:\n",
            "- cnn1d_final_test\n",
            "- rf_final_test\n",
            "Feature names seen at fit time, yet now missing:\n",
            "- cnn1d_final_train\n",
            "- rf_final_train\n",
            "\n",
            "  warnings.warn(message, FutureWarning)\n",
            "/usr/local/lib/python3.7/dist-packages/sklearn/base.py:493: FutureWarning: The feature names should match those that were passed during fit. Starting version 1.2, an error will be raised.\n",
            "Feature names unseen at fit time:\n",
            "- cnn1d_final_test\n",
            "- rf_final_test\n",
            "Feature names seen at fit time, yet now missing:\n",
            "- cnn1d_final_train\n",
            "- rf_final_train\n",
            "\n",
            "  warnings.warn(message, FutureWarning)\n",
            "/usr/local/lib/python3.7/dist-packages/sklearn/utils/validation.py:993: DataConversionWarning: A column-vector y was passed when a 1d array was expected. Please change the shape of y to (n_samples, ), for example using ravel().\n",
            "  y = column_or_1d(y, warn=True)\n",
            "/usr/local/lib/python3.7/dist-packages/sklearn/base.py:493: FutureWarning: The feature names should match those that were passed during fit. Starting version 1.2, an error will be raised.\n",
            "Feature names unseen at fit time:\n",
            "- cnn1d_final_test\n",
            "- rf_final_test\n",
            "Feature names seen at fit time, yet now missing:\n",
            "- cnn1d_final_train\n",
            "- rf_final_train\n",
            "\n",
            "  warnings.warn(message, FutureWarning)\n",
            "/usr/local/lib/python3.7/dist-packages/sklearn/base.py:493: FutureWarning: The feature names should match those that were passed during fit. Starting version 1.2, an error will be raised.\n",
            "Feature names unseen at fit time:\n",
            "- cnn1d_final_test\n",
            "- rf_final_test\n",
            "Feature names seen at fit time, yet now missing:\n",
            "- cnn1d_final_train\n",
            "- rf_final_train\n",
            "\n",
            "  warnings.warn(message, FutureWarning)\n",
            "/usr/local/lib/python3.7/dist-packages/sklearn/utils/validation.py:993: DataConversionWarning: A column-vector y was passed when a 1d array was expected. Please change the shape of y to (n_samples, ), for example using ravel().\n",
            "  y = column_or_1d(y, warn=True)\n",
            "/usr/local/lib/python3.7/dist-packages/sklearn/base.py:493: FutureWarning: The feature names should match those that were passed during fit. Starting version 1.2, an error will be raised.\n",
            "Feature names unseen at fit time:\n",
            "- cnn1d_final_test\n",
            "- rf_final_test\n",
            "Feature names seen at fit time, yet now missing:\n",
            "- cnn1d_final_train\n",
            "- rf_final_train\n",
            "\n",
            "  warnings.warn(message, FutureWarning)\n",
            "/usr/local/lib/python3.7/dist-packages/sklearn/base.py:493: FutureWarning: The feature names should match those that were passed during fit. Starting version 1.2, an error will be raised.\n",
            "Feature names unseen at fit time:\n",
            "- cnn1d_final_test\n",
            "- rf_final_test\n",
            "Feature names seen at fit time, yet now missing:\n",
            "- cnn1d_final_train\n",
            "- rf_final_train\n",
            "\n",
            "  warnings.warn(message, FutureWarning)\n",
            "/usr/local/lib/python3.7/dist-packages/sklearn/utils/validation.py:993: DataConversionWarning: A column-vector y was passed when a 1d array was expected. Please change the shape of y to (n_samples, ), for example using ravel().\n",
            "  y = column_or_1d(y, warn=True)\n",
            "/usr/local/lib/python3.7/dist-packages/sklearn/base.py:493: FutureWarning: The feature names should match those that were passed during fit. Starting version 1.2, an error will be raised.\n",
            "Feature names unseen at fit time:\n",
            "- cnn1d_final_test\n",
            "- rf_final_test\n",
            "Feature names seen at fit time, yet now missing:\n",
            "- cnn1d_final_train\n",
            "- rf_final_train\n",
            "\n",
            "  warnings.warn(message, FutureWarning)\n",
            "/usr/local/lib/python3.7/dist-packages/sklearn/base.py:493: FutureWarning: The feature names should match those that were passed during fit. Starting version 1.2, an error will be raised.\n",
            "Feature names unseen at fit time:\n",
            "- cnn1d_final_test\n",
            "- rf_final_test\n",
            "Feature names seen at fit time, yet now missing:\n",
            "- cnn1d_final_train\n",
            "- rf_final_train\n",
            "\n",
            "  warnings.warn(message, FutureWarning)\n"
          ]
        },
        {
          "output_type": "stream",
          "name": "stdout",
          "text": [
            "KFold 5 of 5\n"
          ]
        },
        {
          "output_type": "stream",
          "name": "stderr",
          "text": [
            "/usr/local/lib/python3.7/dist-packages/sklearn/utils/validation.py:993: DataConversionWarning: A column-vector y was passed when a 1d array was expected. Please change the shape of y to (n_samples, ), for example using ravel().\n",
            "  y = column_or_1d(y, warn=True)\n",
            "/usr/local/lib/python3.7/dist-packages/sklearn/base.py:493: FutureWarning: The feature names should match those that were passed during fit. Starting version 1.2, an error will be raised.\n",
            "Feature names unseen at fit time:\n",
            "- cnn1d_final_test\n",
            "- rf_final_test\n",
            "Feature names seen at fit time, yet now missing:\n",
            "- cnn1d_final_train\n",
            "- rf_final_train\n",
            "\n",
            "  warnings.warn(message, FutureWarning)\n",
            "/usr/local/lib/python3.7/dist-packages/sklearn/base.py:493: FutureWarning: The feature names should match those that were passed during fit. Starting version 1.2, an error will be raised.\n",
            "Feature names unseen at fit time:\n",
            "- cnn1d_final_test\n",
            "- rf_final_test\n",
            "Feature names seen at fit time, yet now missing:\n",
            "- cnn1d_final_train\n",
            "- rf_final_train\n",
            "\n",
            "  warnings.warn(message, FutureWarning)\n"
          ]
        }
      ]
    },
    {
      "cell_type": "code",
      "source": [
        "### Logistic regression lv2 ####\n",
        "yhat = lr_lv2.predict(meta_test_final)\n",
        "print(\"Accuracy: \" + str(round(mean(acc_score_lr_lv2),4)) + \" +- \"+ str(round(std(acc_score_lr_lv2),4)))\n",
        "print(\"ROC-AUC: \" + str(round(mean(auc_score_lr_lv2),4)) + \" +- \" + str(round(std(auc_score_lr_lv2),4)))\n",
        "print(\"F1-Score: \" + str(round(mean(f1_lr_lv2),4)) +\" +- \"+ str(round(std(f1_lr_lv2),4)))\n",
        "print(classification_report(y_test, yhat))\n",
        "cm = confusion_matrix(yhat, y_test,labels=[0,1])\n",
        "disp = ConfusionMatrixDisplay(confusion_matrix=cm, display_labels=[0,1])\n",
        "disp.plot()\n",
        "RocCurveDisplay.from_predictions(y_test, yhat)\n",
        "plt.show()"
      ],
      "metadata": {
        "colab": {
          "base_uri": "https://localhost:8080/",
          "height": 926
        },
        "id": "NuP4gcW3GeNb",
        "outputId": "c639c387-75ce-4e0b-a49a-d9259be4056f"
      },
      "execution_count": 67,
      "outputs": [
        {
          "output_type": "stream",
          "name": "stdout",
          "text": [
            "Accuracy: 0.9726 +- 0.0001\n",
            "ROC-AUC: 0.9724 +- 0.0001\n",
            "F1-Score: 0.9773 +- 0.0001\n",
            "              precision    recall  f1-score   support\n",
            "\n",
            "           0       0.97      0.96      0.97      2024\n",
            "           1       0.97      0.98      0.98      3041\n",
            "\n",
            "    accuracy                           0.97      5065\n",
            "   macro avg       0.97      0.97      0.97      5065\n",
            "weighted avg       0.97      0.97      0.97      5065\n",
            "\n"
          ]
        },
        {
          "output_type": "stream",
          "name": "stderr",
          "text": [
            "/usr/local/lib/python3.7/dist-packages/sklearn/base.py:493: FutureWarning: The feature names should match those that were passed during fit. Starting version 1.2, an error will be raised.\n",
            "Feature names unseen at fit time:\n",
            "- cnn1d_final_test\n",
            "- rf_final_test\n",
            "Feature names seen at fit time, yet now missing:\n",
            "- cnn1d_final_train\n",
            "- rf_final_train\n",
            "\n",
            "  warnings.warn(message, FutureWarning)\n"
          ]
        },
        {
          "output_type": "display_data",
          "data": {
            "text/plain": [
              "<Figure size 432x288 with 2 Axes>"
            ],
            "image/png": "[encoded data removed]"
          },
          "metadata": {
            "needs_background": "light"
          }
        },
        {
          "output_type": "display_data",
          "data": {
            "text/plain": [
              "<Figure size 432x288 with 1 Axes>"
            ],
            "image/png": "[encoded data removed]"
          },
          "metadata": {
            "needs_background": "light"
          }
        }
      ]
    }
  ]
}